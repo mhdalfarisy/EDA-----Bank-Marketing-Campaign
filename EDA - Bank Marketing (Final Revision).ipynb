{
  "cells": [
    {
      "cell_type": "markdown",
      "metadata": {
        "id": "Ns9EZst3xxY3"
      },
      "source": [
        "# Bank Marketing Campaign"
      ]
    },
    {
      "cell_type": "markdown",
      "metadata": {},
      "source": [
        "by :\n",
        "- Jeffry \n",
        "- Hani\n",
        "- Faris"
      ]
    },
    {
      "cell_type": "markdown",
      "metadata": {},
      "source": [
        "# Business Problem\n",
        "- Database Bank marketing campaigns : Data yang menggambarkan hasil kampanye pemasaran Bank Portugal. Kampanye yang dilakukan sebagian besar didasarkan pada panggilan telepon langsung, menawarkan klien bank untuk menempatkan deposito. Namun banyaknya nasabah yang menolak membuka rekening deposito membuat perusahaan harus membuat strategi untuk menambah nasabah membuka deposito.\n"
      ]
    },
    {
      "cell_type": "markdown",
      "metadata": {},
      "source": [
        "# Business Goal\n",
        "- Kami selaku konsultan data science akan memberikan rekomendasi strategi kepada Bank portugal untuk menambah nasabah membuka deposito."
      ]
    },
    {
      "cell_type": "markdown",
      "metadata": {},
      "source": [
        "# Data Understanding\n",
        "- Age   \t: Menyimpan informasi tentang umur klien\n",
        "- Job   \t: Menyimpan informasi tentang bidang pekerjaan klien\n",
        "- Marital \t: Menyimpan informasi tentang status pernikahan klien\n",
        "- Education \t: Menyimpan informasi tentang status pendidikan klien\n",
        "- Default \t: Menyimpan informasi tentang latar belakang kredit macet klien\n",
        "- Campaign\t: Informasi terkait jumlah kontak yang dilakukan selama campaign ini\n",
        "- Housing \t: Menyimpan informasi tentang cicilan rumah klien\n",
        "- Loan \t: Menyimpan informasi tentang kepemilikan hutang klien terhadap pihak lain\n",
        "- Contact \t: Menyimpan informasi tentang tipe menghubungi klien melalui telepon dan cellular\n",
        "- Month \t: Menyimpan informasi tentang bulan menghubungi klien\n",
        "- Day_of_Week : Menyimpan informasi tentang hari terakhir menghubungi klien\n",
        "- Duration \t: Menyimpan informasi tentang durasi menghubungi klien melalui telepon dan cellular (dalam hitungan detik)\n",
        "- Pdays : Menyimpan informasi tentang jumlah hari yang berlalu setelah klien terakhir dihubungi dari kampanye sebelumnya\n",
        "- Previous : Menyimpan informasi tentang jumlah komunikasi dengan klien yang dilakukan yang dilakukan sebelum kampanye ini dan untuk klien ini\n",
        "- Poutcome: Menyimpan informasi tentang hasil dari kampanye pemasaran sebelumnya\n",
        "- Emp.Var.Rate : Menyimpan informasi tentang variasi tingkat lapangan kerja regional di suatu negara\n",
        "- Cons.Price.Idx : Menyimpan informasi tentang tingkat inflasi di portugal\n",
        "- Cons.Conf.Id : Menyimpan informasi tentang kepercayaan klien terhadap bank\n",
        "- Euriborn3m : Menyimpan informasi tentang tingkat bunga rata-rata Europa\n",
        "- Nr.employeed : Menyimpan informasi tentang jumlah karyawan bank\n",
        "- Y : Menyimpan informasi tentang data klien yang jadi melakukan deposit di bank\n"
      ]
    },
    {
      "cell_type": "markdown",
      "metadata": {
        "id": "NYLlGE-7xxY8"
      },
      "source": [
        "# Import Library"
      ]
    },
    {
      "cell_type": "code",
      "execution_count": 3,
      "metadata": {
        "id": "pPOyjllzxxY8"
      },
      "outputs": [],
      "source": [
        "import pandas as pd\n",
        "import numpy as np\n",
        "import matplotlib.pyplot as plt\n",
        "import seaborn as sns"
      ]
    },
    {
      "cell_type": "markdown",
      "metadata": {
        "id": "A7F91ZEhxxY-"
      },
      "source": [
        "# Import Data"
      ]
    },
    {
      "cell_type": "code",
      "execution_count": 4,
      "metadata": {
        "colab": {
          "base_uri": "https://localhost:8080/",
          "height": 488
        },
        "id": "5bUsZitIxxY-",
        "outputId": "52cf2e48-88c1-4a1d-c232-3bbab4c02b96"
      },
      "outputs": [
        {
          "data": {
            "text/html": [
              "<div>\n",
              "<style scoped>\n",
              "    .dataframe tbody tr th:only-of-type {\n",
              "        vertical-align: middle;\n",
              "    }\n",
              "\n",
              "    .dataframe tbody tr th {\n",
              "        vertical-align: top;\n",
              "    }\n",
              "\n",
              "    .dataframe thead th {\n",
              "        text-align: right;\n",
              "    }\n",
              "</style>\n",
              "<table border=\"1\" class=\"dataframe\">\n",
              "  <thead>\n",
              "    <tr style=\"text-align: right;\">\n",
              "      <th></th>\n",
              "      <th>age</th>\n",
              "      <th>job</th>\n",
              "      <th>marital</th>\n",
              "      <th>education</th>\n",
              "      <th>default</th>\n",
              "      <th>housing</th>\n",
              "      <th>loan</th>\n",
              "      <th>contact</th>\n",
              "      <th>month</th>\n",
              "      <th>day_of_week</th>\n",
              "      <th>...</th>\n",
              "      <th>campaign</th>\n",
              "      <th>pdays</th>\n",
              "      <th>previous</th>\n",
              "      <th>poutcome</th>\n",
              "      <th>emp.var.rate</th>\n",
              "      <th>cons.price.idx</th>\n",
              "      <th>cons.conf.idx</th>\n",
              "      <th>euribor3m</th>\n",
              "      <th>nr.employed</th>\n",
              "      <th>y</th>\n",
              "    </tr>\n",
              "  </thead>\n",
              "  <tbody>\n",
              "    <tr>\n",
              "      <th>0</th>\n",
              "      <td>56</td>\n",
              "      <td>housemaid</td>\n",
              "      <td>married</td>\n",
              "      <td>basic.4y</td>\n",
              "      <td>no</td>\n",
              "      <td>no</td>\n",
              "      <td>no</td>\n",
              "      <td>telephone</td>\n",
              "      <td>may</td>\n",
              "      <td>mon</td>\n",
              "      <td>...</td>\n",
              "      <td>1</td>\n",
              "      <td>999</td>\n",
              "      <td>0</td>\n",
              "      <td>nonexistent</td>\n",
              "      <td>1.1</td>\n",
              "      <td>93.994</td>\n",
              "      <td>-36.4</td>\n",
              "      <td>4.857</td>\n",
              "      <td>5191.0</td>\n",
              "      <td>no</td>\n",
              "    </tr>\n",
              "    <tr>\n",
              "      <th>1</th>\n",
              "      <td>57</td>\n",
              "      <td>services</td>\n",
              "      <td>married</td>\n",
              "      <td>high.school</td>\n",
              "      <td>unknown</td>\n",
              "      <td>no</td>\n",
              "      <td>no</td>\n",
              "      <td>telephone</td>\n",
              "      <td>may</td>\n",
              "      <td>mon</td>\n",
              "      <td>...</td>\n",
              "      <td>1</td>\n",
              "      <td>999</td>\n",
              "      <td>0</td>\n",
              "      <td>nonexistent</td>\n",
              "      <td>1.1</td>\n",
              "      <td>93.994</td>\n",
              "      <td>-36.4</td>\n",
              "      <td>4.857</td>\n",
              "      <td>5191.0</td>\n",
              "      <td>no</td>\n",
              "    </tr>\n",
              "    <tr>\n",
              "      <th>2</th>\n",
              "      <td>37</td>\n",
              "      <td>services</td>\n",
              "      <td>married</td>\n",
              "      <td>high.school</td>\n",
              "      <td>no</td>\n",
              "      <td>yes</td>\n",
              "      <td>no</td>\n",
              "      <td>telephone</td>\n",
              "      <td>may</td>\n",
              "      <td>mon</td>\n",
              "      <td>...</td>\n",
              "      <td>1</td>\n",
              "      <td>999</td>\n",
              "      <td>0</td>\n",
              "      <td>nonexistent</td>\n",
              "      <td>1.1</td>\n",
              "      <td>93.994</td>\n",
              "      <td>-36.4</td>\n",
              "      <td>4.857</td>\n",
              "      <td>5191.0</td>\n",
              "      <td>no</td>\n",
              "    </tr>\n",
              "    <tr>\n",
              "      <th>3</th>\n",
              "      <td>40</td>\n",
              "      <td>admin.</td>\n",
              "      <td>married</td>\n",
              "      <td>basic.6y</td>\n",
              "      <td>no</td>\n",
              "      <td>no</td>\n",
              "      <td>no</td>\n",
              "      <td>telephone</td>\n",
              "      <td>may</td>\n",
              "      <td>mon</td>\n",
              "      <td>...</td>\n",
              "      <td>1</td>\n",
              "      <td>999</td>\n",
              "      <td>0</td>\n",
              "      <td>nonexistent</td>\n",
              "      <td>1.1</td>\n",
              "      <td>93.994</td>\n",
              "      <td>-36.4</td>\n",
              "      <td>4.857</td>\n",
              "      <td>5191.0</td>\n",
              "      <td>no</td>\n",
              "    </tr>\n",
              "    <tr>\n",
              "      <th>4</th>\n",
              "      <td>56</td>\n",
              "      <td>services</td>\n",
              "      <td>married</td>\n",
              "      <td>high.school</td>\n",
              "      <td>no</td>\n",
              "      <td>no</td>\n",
              "      <td>yes</td>\n",
              "      <td>telephone</td>\n",
              "      <td>may</td>\n",
              "      <td>mon</td>\n",
              "      <td>...</td>\n",
              "      <td>1</td>\n",
              "      <td>999</td>\n",
              "      <td>0</td>\n",
              "      <td>nonexistent</td>\n",
              "      <td>1.1</td>\n",
              "      <td>93.994</td>\n",
              "      <td>-36.4</td>\n",
              "      <td>4.857</td>\n",
              "      <td>5191.0</td>\n",
              "      <td>no</td>\n",
              "    </tr>\n",
              "    <tr>\n",
              "      <th>...</th>\n",
              "      <td>...</td>\n",
              "      <td>...</td>\n",
              "      <td>...</td>\n",
              "      <td>...</td>\n",
              "      <td>...</td>\n",
              "      <td>...</td>\n",
              "      <td>...</td>\n",
              "      <td>...</td>\n",
              "      <td>...</td>\n",
              "      <td>...</td>\n",
              "      <td>...</td>\n",
              "      <td>...</td>\n",
              "      <td>...</td>\n",
              "      <td>...</td>\n",
              "      <td>...</td>\n",
              "      <td>...</td>\n",
              "      <td>...</td>\n",
              "      <td>...</td>\n",
              "      <td>...</td>\n",
              "      <td>...</td>\n",
              "      <td>...</td>\n",
              "    </tr>\n",
              "    <tr>\n",
              "      <th>41183</th>\n",
              "      <td>73</td>\n",
              "      <td>retired</td>\n",
              "      <td>married</td>\n",
              "      <td>professional.course</td>\n",
              "      <td>no</td>\n",
              "      <td>yes</td>\n",
              "      <td>no</td>\n",
              "      <td>cellular</td>\n",
              "      <td>nov</td>\n",
              "      <td>fri</td>\n",
              "      <td>...</td>\n",
              "      <td>1</td>\n",
              "      <td>999</td>\n",
              "      <td>0</td>\n",
              "      <td>nonexistent</td>\n",
              "      <td>-1.1</td>\n",
              "      <td>94.767</td>\n",
              "      <td>-50.8</td>\n",
              "      <td>1.028</td>\n",
              "      <td>4963.6</td>\n",
              "      <td>yes</td>\n",
              "    </tr>\n",
              "    <tr>\n",
              "      <th>41184</th>\n",
              "      <td>46</td>\n",
              "      <td>blue-collar</td>\n",
              "      <td>married</td>\n",
              "      <td>professional.course</td>\n",
              "      <td>no</td>\n",
              "      <td>no</td>\n",
              "      <td>no</td>\n",
              "      <td>cellular</td>\n",
              "      <td>nov</td>\n",
              "      <td>fri</td>\n",
              "      <td>...</td>\n",
              "      <td>1</td>\n",
              "      <td>999</td>\n",
              "      <td>0</td>\n",
              "      <td>nonexistent</td>\n",
              "      <td>-1.1</td>\n",
              "      <td>94.767</td>\n",
              "      <td>-50.8</td>\n",
              "      <td>1.028</td>\n",
              "      <td>4963.6</td>\n",
              "      <td>no</td>\n",
              "    </tr>\n",
              "    <tr>\n",
              "      <th>41185</th>\n",
              "      <td>56</td>\n",
              "      <td>retired</td>\n",
              "      <td>married</td>\n",
              "      <td>university.degree</td>\n",
              "      <td>no</td>\n",
              "      <td>yes</td>\n",
              "      <td>no</td>\n",
              "      <td>cellular</td>\n",
              "      <td>nov</td>\n",
              "      <td>fri</td>\n",
              "      <td>...</td>\n",
              "      <td>2</td>\n",
              "      <td>999</td>\n",
              "      <td>0</td>\n",
              "      <td>nonexistent</td>\n",
              "      <td>-1.1</td>\n",
              "      <td>94.767</td>\n",
              "      <td>-50.8</td>\n",
              "      <td>1.028</td>\n",
              "      <td>4963.6</td>\n",
              "      <td>no</td>\n",
              "    </tr>\n",
              "    <tr>\n",
              "      <th>41186</th>\n",
              "      <td>44</td>\n",
              "      <td>technician</td>\n",
              "      <td>married</td>\n",
              "      <td>professional.course</td>\n",
              "      <td>no</td>\n",
              "      <td>no</td>\n",
              "      <td>no</td>\n",
              "      <td>cellular</td>\n",
              "      <td>nov</td>\n",
              "      <td>fri</td>\n",
              "      <td>...</td>\n",
              "      <td>1</td>\n",
              "      <td>999</td>\n",
              "      <td>0</td>\n",
              "      <td>nonexistent</td>\n",
              "      <td>-1.1</td>\n",
              "      <td>94.767</td>\n",
              "      <td>-50.8</td>\n",
              "      <td>1.028</td>\n",
              "      <td>4963.6</td>\n",
              "      <td>yes</td>\n",
              "    </tr>\n",
              "    <tr>\n",
              "      <th>41187</th>\n",
              "      <td>74</td>\n",
              "      <td>retired</td>\n",
              "      <td>married</td>\n",
              "      <td>professional.course</td>\n",
              "      <td>no</td>\n",
              "      <td>yes</td>\n",
              "      <td>no</td>\n",
              "      <td>cellular</td>\n",
              "      <td>nov</td>\n",
              "      <td>fri</td>\n",
              "      <td>...</td>\n",
              "      <td>3</td>\n",
              "      <td>999</td>\n",
              "      <td>1</td>\n",
              "      <td>failure</td>\n",
              "      <td>-1.1</td>\n",
              "      <td>94.767</td>\n",
              "      <td>-50.8</td>\n",
              "      <td>1.028</td>\n",
              "      <td>4963.6</td>\n",
              "      <td>no</td>\n",
              "    </tr>\n",
              "  </tbody>\n",
              "</table>\n",
              "<p>41188 rows × 21 columns</p>\n",
              "</div>"
            ],
            "text/plain": [
              "       age          job  marital            education  default housing loan  \\\n",
              "0       56    housemaid  married             basic.4y       no      no   no   \n",
              "1       57     services  married          high.school  unknown      no   no   \n",
              "2       37     services  married          high.school       no     yes   no   \n",
              "3       40       admin.  married             basic.6y       no      no   no   \n",
              "4       56     services  married          high.school       no      no  yes   \n",
              "...    ...          ...      ...                  ...      ...     ...  ...   \n",
              "41183   73      retired  married  professional.course       no     yes   no   \n",
              "41184   46  blue-collar  married  professional.course       no      no   no   \n",
              "41185   56      retired  married    university.degree       no     yes   no   \n",
              "41186   44   technician  married  professional.course       no      no   no   \n",
              "41187   74      retired  married  professional.course       no     yes   no   \n",
              "\n",
              "         contact month day_of_week  ...  campaign  pdays  previous  \\\n",
              "0      telephone   may         mon  ...         1    999         0   \n",
              "1      telephone   may         mon  ...         1    999         0   \n",
              "2      telephone   may         mon  ...         1    999         0   \n",
              "3      telephone   may         mon  ...         1    999         0   \n",
              "4      telephone   may         mon  ...         1    999         0   \n",
              "...          ...   ...         ...  ...       ...    ...       ...   \n",
              "41183   cellular   nov         fri  ...         1    999         0   \n",
              "41184   cellular   nov         fri  ...         1    999         0   \n",
              "41185   cellular   nov         fri  ...         2    999         0   \n",
              "41186   cellular   nov         fri  ...         1    999         0   \n",
              "41187   cellular   nov         fri  ...         3    999         1   \n",
              "\n",
              "          poutcome emp.var.rate  cons.price.idx  cons.conf.idx  euribor3m  \\\n",
              "0      nonexistent          1.1          93.994          -36.4      4.857   \n",
              "1      nonexistent          1.1          93.994          -36.4      4.857   \n",
              "2      nonexistent          1.1          93.994          -36.4      4.857   \n",
              "3      nonexistent          1.1          93.994          -36.4      4.857   \n",
              "4      nonexistent          1.1          93.994          -36.4      4.857   \n",
              "...            ...          ...             ...            ...        ...   \n",
              "41183  nonexistent         -1.1          94.767          -50.8      1.028   \n",
              "41184  nonexistent         -1.1          94.767          -50.8      1.028   \n",
              "41185  nonexistent         -1.1          94.767          -50.8      1.028   \n",
              "41186  nonexistent         -1.1          94.767          -50.8      1.028   \n",
              "41187      failure         -1.1          94.767          -50.8      1.028   \n",
              "\n",
              "       nr.employed    y  \n",
              "0           5191.0   no  \n",
              "1           5191.0   no  \n",
              "2           5191.0   no  \n",
              "3           5191.0   no  \n",
              "4           5191.0   no  \n",
              "...            ...  ...  \n",
              "41183       4963.6  yes  \n",
              "41184       4963.6   no  \n",
              "41185       4963.6   no  \n",
              "41186       4963.6  yes  \n",
              "41187       4963.6   no  \n",
              "\n",
              "[41188 rows x 21 columns]"
            ]
          },
          "execution_count": 4,
          "metadata": {},
          "output_type": "execute_result"
        }
      ],
      "source": [
        "# Import dataset\n",
        "df = pd.read_excel('bank-additional-full.xlsx')\n",
        "df"
      ]
    },
    {
      "cell_type": "markdown",
      "metadata": {
        "id": "DeskcixmxxY_"
      },
      "source": [
        "# Data Wrangling"
      ]
    },
    {
      "cell_type": "code",
      "execution_count": 5,
      "metadata": {
        "id": "5xOcGG4Z_DNJ"
      },
      "outputs": [],
      "source": [
        "# Function age_range\n",
        "def umur(x):\n",
        "    if x > 17 and x <39:\n",
        "        return '17-25'\n",
        "    elif x > 25 and x <=39 :\n",
        "        return '25-39'\n",
        "    elif x > 39 and x <=59 :\n",
        "        return '39-59'\n",
        "    else :\n",
        "        return '>59'"
      ]
    },
    {
      "cell_type": "code",
      "execution_count": 6,
      "metadata": {
        "id": "Pc-GzJia_Dty"
      },
      "outputs": [],
      "source": [
        "# Insert Kolom age_year\n",
        "df.insert(1, column='age_range',value=df['age'].apply(umur))"
      ]
    },
    {
      "cell_type": "code",
      "execution_count": 7,
      "metadata": {
        "id": "LDF-296G_3fo"
      },
      "outputs": [],
      "source": [
        "# Function edu\n",
        "def edu(x):\n",
        "    if x == 'basic.4y' :\n",
        "        return 'basic'\n",
        "    elif x == 'basic.6y' :\n",
        "        return 'basic'\n",
        "    elif x == 'basic.9y' :\n",
        "        return 'basic'\n",
        "    else :\n",
        "        return x"
      ]
    },
    {
      "cell_type": "code",
      "execution_count": 8,
      "metadata": {
        "id": "gL6kltBj_4Iu"
      },
      "outputs": [],
      "source": [
        "# Insert Kolom edu\n",
        "df.insert(5, column='edu',value=df['education'].apply(edu))"
      ]
    },
    {
      "cell_type": "code",
      "execution_count": 9,
      "metadata": {
        "id": "ksixGP2eATY2"
      },
      "outputs": [],
      "source": [
        "# Function campaign_range\n",
        "def campaign_range(x):\n",
        "    if x <= 10 :\n",
        "        return '1-10'\n",
        "    elif x > 10 and x <=20 :\n",
        "        return '11-20'\n",
        "    elif x > 20 and x <=30 :\n",
        "        return '21-30'\n",
        "    elif x > 30 and x <=40 :\n",
        "        return '31-40'\n",
        "    else :\n",
        "        return '> 40'"
      ]
    },
    {
      "cell_type": "code",
      "execution_count": 10,
      "metadata": {
        "id": "pTxd7SzxAT4R"
      },
      "outputs": [],
      "source": [
        "# Insert Kolom campaign_range\n",
        "df.insert(14, column='campaign_range',value=df['campaign'].apply(campaign_range))"
      ]
    },
    {
      "cell_type": "code",
      "execution_count": 11,
      "metadata": {},
      "outputs": [],
      "source": [
        "df['cons.price.idx'] = df['cons.price.idx'].astype('int64')"
      ]
    },
    {
      "cell_type": "code",
      "execution_count": 12,
      "metadata": {},
      "outputs": [
        {
          "data": {
            "text/plain": [
              "cons.price.idx\n",
              "93                26414\n",
              "92                 8992\n",
              "94                 5782\n",
              "dtype: int64"
            ]
          },
          "execution_count": 12,
          "metadata": {},
          "output_type": "execute_result"
        }
      ],
      "source": [
        "df[['cons.price.idx']].value_counts()"
      ]
    },
    {
      "cell_type": "code",
      "execution_count": 13,
      "metadata": {
        "id": "vqvvUTUOxxY_"
      },
      "outputs": [],
      "source": [
        "# Function filter data 2009\n",
        "def tahun(x):\n",
        "    if x == 92 :\n",
        "        return '2009'\n",
        "    elif x == 93 :\n",
        "        return '2009'\n",
        "    elif x == 94 :\n",
        "        return '2010'\n",
        "    else :\n",
        "        return 'unknown'"
      ]
    },
    {
      "cell_type": "code",
      "execution_count": 14,
      "metadata": {
        "id": "nVmE_bqexxZA"
      },
      "outputs": [],
      "source": [
        "# Insert Column Year\n",
        "df.insert(11, column='year',value=df['cons.price.idx'].apply(tahun))"
      ]
    },
    {
      "cell_type": "code",
      "execution_count": 15,
      "metadata": {
        "colab": {
          "base_uri": "https://localhost:8080/",
          "height": 488
        },
        "id": "0Hn0HYsFxxZB",
        "outputId": "a04aee78-84c4-4903-91b2-d0ceb517e0ab"
      },
      "outputs": [
        {
          "data": {
            "text/html": [
              "<div>\n",
              "<style scoped>\n",
              "    .dataframe tbody tr th:only-of-type {\n",
              "        vertical-align: middle;\n",
              "    }\n",
              "\n",
              "    .dataframe tbody tr th {\n",
              "        vertical-align: top;\n",
              "    }\n",
              "\n",
              "    .dataframe thead th {\n",
              "        text-align: right;\n",
              "    }\n",
              "</style>\n",
              "<table border=\"1\" class=\"dataframe\">\n",
              "  <thead>\n",
              "    <tr style=\"text-align: right;\">\n",
              "      <th></th>\n",
              "      <th>age</th>\n",
              "      <th>age_range</th>\n",
              "      <th>job</th>\n",
              "      <th>marital</th>\n",
              "      <th>education</th>\n",
              "      <th>edu</th>\n",
              "      <th>default</th>\n",
              "      <th>housing</th>\n",
              "      <th>loan</th>\n",
              "      <th>contact</th>\n",
              "      <th>...</th>\n",
              "      <th>campaign_range</th>\n",
              "      <th>pdays</th>\n",
              "      <th>previous</th>\n",
              "      <th>poutcome</th>\n",
              "      <th>emp.var.rate</th>\n",
              "      <th>cons.price.idx</th>\n",
              "      <th>cons.conf.idx</th>\n",
              "      <th>euribor3m</th>\n",
              "      <th>nr.employed</th>\n",
              "      <th>y</th>\n",
              "    </tr>\n",
              "  </thead>\n",
              "  <tbody>\n",
              "    <tr>\n",
              "      <th>0</th>\n",
              "      <td>56</td>\n",
              "      <td>39-59</td>\n",
              "      <td>housemaid</td>\n",
              "      <td>married</td>\n",
              "      <td>basic.4y</td>\n",
              "      <td>basic</td>\n",
              "      <td>no</td>\n",
              "      <td>no</td>\n",
              "      <td>no</td>\n",
              "      <td>telephone</td>\n",
              "      <td>...</td>\n",
              "      <td>1-10</td>\n",
              "      <td>999</td>\n",
              "      <td>0</td>\n",
              "      <td>nonexistent</td>\n",
              "      <td>1.1</td>\n",
              "      <td>93</td>\n",
              "      <td>-36.4</td>\n",
              "      <td>4.857</td>\n",
              "      <td>5191.0</td>\n",
              "      <td>no</td>\n",
              "    </tr>\n",
              "    <tr>\n",
              "      <th>1</th>\n",
              "      <td>57</td>\n",
              "      <td>39-59</td>\n",
              "      <td>services</td>\n",
              "      <td>married</td>\n",
              "      <td>high.school</td>\n",
              "      <td>high.school</td>\n",
              "      <td>unknown</td>\n",
              "      <td>no</td>\n",
              "      <td>no</td>\n",
              "      <td>telephone</td>\n",
              "      <td>...</td>\n",
              "      <td>1-10</td>\n",
              "      <td>999</td>\n",
              "      <td>0</td>\n",
              "      <td>nonexistent</td>\n",
              "      <td>1.1</td>\n",
              "      <td>93</td>\n",
              "      <td>-36.4</td>\n",
              "      <td>4.857</td>\n",
              "      <td>5191.0</td>\n",
              "      <td>no</td>\n",
              "    </tr>\n",
              "    <tr>\n",
              "      <th>2</th>\n",
              "      <td>37</td>\n",
              "      <td>17-25</td>\n",
              "      <td>services</td>\n",
              "      <td>married</td>\n",
              "      <td>high.school</td>\n",
              "      <td>high.school</td>\n",
              "      <td>no</td>\n",
              "      <td>yes</td>\n",
              "      <td>no</td>\n",
              "      <td>telephone</td>\n",
              "      <td>...</td>\n",
              "      <td>1-10</td>\n",
              "      <td>999</td>\n",
              "      <td>0</td>\n",
              "      <td>nonexistent</td>\n",
              "      <td>1.1</td>\n",
              "      <td>93</td>\n",
              "      <td>-36.4</td>\n",
              "      <td>4.857</td>\n",
              "      <td>5191.0</td>\n",
              "      <td>no</td>\n",
              "    </tr>\n",
              "    <tr>\n",
              "      <th>3</th>\n",
              "      <td>40</td>\n",
              "      <td>39-59</td>\n",
              "      <td>admin.</td>\n",
              "      <td>married</td>\n",
              "      <td>basic.6y</td>\n",
              "      <td>basic</td>\n",
              "      <td>no</td>\n",
              "      <td>no</td>\n",
              "      <td>no</td>\n",
              "      <td>telephone</td>\n",
              "      <td>...</td>\n",
              "      <td>1-10</td>\n",
              "      <td>999</td>\n",
              "      <td>0</td>\n",
              "      <td>nonexistent</td>\n",
              "      <td>1.1</td>\n",
              "      <td>93</td>\n",
              "      <td>-36.4</td>\n",
              "      <td>4.857</td>\n",
              "      <td>5191.0</td>\n",
              "      <td>no</td>\n",
              "    </tr>\n",
              "    <tr>\n",
              "      <th>4</th>\n",
              "      <td>56</td>\n",
              "      <td>39-59</td>\n",
              "      <td>services</td>\n",
              "      <td>married</td>\n",
              "      <td>high.school</td>\n",
              "      <td>high.school</td>\n",
              "      <td>no</td>\n",
              "      <td>no</td>\n",
              "      <td>yes</td>\n",
              "      <td>telephone</td>\n",
              "      <td>...</td>\n",
              "      <td>1-10</td>\n",
              "      <td>999</td>\n",
              "      <td>0</td>\n",
              "      <td>nonexistent</td>\n",
              "      <td>1.1</td>\n",
              "      <td>93</td>\n",
              "      <td>-36.4</td>\n",
              "      <td>4.857</td>\n",
              "      <td>5191.0</td>\n",
              "      <td>no</td>\n",
              "    </tr>\n",
              "    <tr>\n",
              "      <th>...</th>\n",
              "      <td>...</td>\n",
              "      <td>...</td>\n",
              "      <td>...</td>\n",
              "      <td>...</td>\n",
              "      <td>...</td>\n",
              "      <td>...</td>\n",
              "      <td>...</td>\n",
              "      <td>...</td>\n",
              "      <td>...</td>\n",
              "      <td>...</td>\n",
              "      <td>...</td>\n",
              "      <td>...</td>\n",
              "      <td>...</td>\n",
              "      <td>...</td>\n",
              "      <td>...</td>\n",
              "      <td>...</td>\n",
              "      <td>...</td>\n",
              "      <td>...</td>\n",
              "      <td>...</td>\n",
              "      <td>...</td>\n",
              "      <td>...</td>\n",
              "    </tr>\n",
              "    <tr>\n",
              "      <th>39775</th>\n",
              "      <td>47</td>\n",
              "      <td>39-59</td>\n",
              "      <td>admin.</td>\n",
              "      <td>single</td>\n",
              "      <td>university.degree</td>\n",
              "      <td>university.degree</td>\n",
              "      <td>no</td>\n",
              "      <td>yes</td>\n",
              "      <td>yes</td>\n",
              "      <td>cellular</td>\n",
              "      <td>...</td>\n",
              "      <td>1-10</td>\n",
              "      <td>999</td>\n",
              "      <td>0</td>\n",
              "      <td>nonexistent</td>\n",
              "      <td>-1.8</td>\n",
              "      <td>93</td>\n",
              "      <td>-40.0</td>\n",
              "      <td>0.701</td>\n",
              "      <td>5008.7</td>\n",
              "      <td>no</td>\n",
              "    </tr>\n",
              "    <tr>\n",
              "      <th>39776</th>\n",
              "      <td>31</td>\n",
              "      <td>17-25</td>\n",
              "      <td>unknown</td>\n",
              "      <td>single</td>\n",
              "      <td>high.school</td>\n",
              "      <td>high.school</td>\n",
              "      <td>no</td>\n",
              "      <td>no</td>\n",
              "      <td>no</td>\n",
              "      <td>cellular</td>\n",
              "      <td>...</td>\n",
              "      <td>1-10</td>\n",
              "      <td>999</td>\n",
              "      <td>0</td>\n",
              "      <td>nonexistent</td>\n",
              "      <td>-1.8</td>\n",
              "      <td>93</td>\n",
              "      <td>-40.0</td>\n",
              "      <td>0.701</td>\n",
              "      <td>5008.7</td>\n",
              "      <td>yes</td>\n",
              "    </tr>\n",
              "    <tr>\n",
              "      <th>39777</th>\n",
              "      <td>31</td>\n",
              "      <td>17-25</td>\n",
              "      <td>unknown</td>\n",
              "      <td>single</td>\n",
              "      <td>high.school</td>\n",
              "      <td>high.school</td>\n",
              "      <td>no</td>\n",
              "      <td>no</td>\n",
              "      <td>no</td>\n",
              "      <td>cellular</td>\n",
              "      <td>...</td>\n",
              "      <td>1-10</td>\n",
              "      <td>6</td>\n",
              "      <td>2</td>\n",
              "      <td>success</td>\n",
              "      <td>-1.8</td>\n",
              "      <td>93</td>\n",
              "      <td>-40.0</td>\n",
              "      <td>0.701</td>\n",
              "      <td>5008.7</td>\n",
              "      <td>no</td>\n",
              "    </tr>\n",
              "    <tr>\n",
              "      <th>39778</th>\n",
              "      <td>49</td>\n",
              "      <td>39-59</td>\n",
              "      <td>technician</td>\n",
              "      <td>single</td>\n",
              "      <td>university.degree</td>\n",
              "      <td>university.degree</td>\n",
              "      <td>no</td>\n",
              "      <td>no</td>\n",
              "      <td>no</td>\n",
              "      <td>telephone</td>\n",
              "      <td>...</td>\n",
              "      <td>1-10</td>\n",
              "      <td>999</td>\n",
              "      <td>0</td>\n",
              "      <td>nonexistent</td>\n",
              "      <td>-1.8</td>\n",
              "      <td>93</td>\n",
              "      <td>-40.0</td>\n",
              "      <td>0.701</td>\n",
              "      <td>5008.7</td>\n",
              "      <td>no</td>\n",
              "    </tr>\n",
              "    <tr>\n",
              "      <th>39779</th>\n",
              "      <td>42</td>\n",
              "      <td>39-59</td>\n",
              "      <td>management</td>\n",
              "      <td>single</td>\n",
              "      <td>high.school</td>\n",
              "      <td>high.school</td>\n",
              "      <td>no</td>\n",
              "      <td>yes</td>\n",
              "      <td>no</td>\n",
              "      <td>telephone</td>\n",
              "      <td>...</td>\n",
              "      <td>1-10</td>\n",
              "      <td>999</td>\n",
              "      <td>0</td>\n",
              "      <td>nonexistent</td>\n",
              "      <td>-1.8</td>\n",
              "      <td>93</td>\n",
              "      <td>-40.0</td>\n",
              "      <td>0.701</td>\n",
              "      <td>5008.7</td>\n",
              "      <td>no</td>\n",
              "    </tr>\n",
              "  </tbody>\n",
              "</table>\n",
              "<p>35406 rows × 25 columns</p>\n",
              "</div>"
            ],
            "text/plain": [
              "       age age_range         job  marital          education  \\\n",
              "0       56     39-59   housemaid  married           basic.4y   \n",
              "1       57     39-59    services  married        high.school   \n",
              "2       37     17-25    services  married        high.school   \n",
              "3       40     39-59      admin.  married           basic.6y   \n",
              "4       56     39-59    services  married        high.school   \n",
              "...    ...       ...         ...      ...                ...   \n",
              "39775   47     39-59      admin.   single  university.degree   \n",
              "39776   31     17-25     unknown   single        high.school   \n",
              "39777   31     17-25     unknown   single        high.school   \n",
              "39778   49     39-59  technician   single  university.degree   \n",
              "39779   42     39-59  management   single        high.school   \n",
              "\n",
              "                     edu  default housing loan    contact  ... campaign_range  \\\n",
              "0                  basic       no      no   no  telephone  ...           1-10   \n",
              "1            high.school  unknown      no   no  telephone  ...           1-10   \n",
              "2            high.school       no     yes   no  telephone  ...           1-10   \n",
              "3                  basic       no      no   no  telephone  ...           1-10   \n",
              "4            high.school       no      no  yes  telephone  ...           1-10   \n",
              "...                  ...      ...     ...  ...        ...  ...            ...   \n",
              "39775  university.degree       no     yes  yes   cellular  ...           1-10   \n",
              "39776        high.school       no      no   no   cellular  ...           1-10   \n",
              "39777        high.school       no      no   no   cellular  ...           1-10   \n",
              "39778  university.degree       no      no   no  telephone  ...           1-10   \n",
              "39779        high.school       no     yes   no  telephone  ...           1-10   \n",
              "\n",
              "      pdays previous     poutcome  emp.var.rate cons.price.idx  cons.conf.idx  \\\n",
              "0       999        0  nonexistent           1.1             93          -36.4   \n",
              "1       999        0  nonexistent           1.1             93          -36.4   \n",
              "2       999        0  nonexistent           1.1             93          -36.4   \n",
              "3       999        0  nonexistent           1.1             93          -36.4   \n",
              "4       999        0  nonexistent           1.1             93          -36.4   \n",
              "...     ...      ...          ...           ...            ...            ...   \n",
              "39775   999        0  nonexistent          -1.8             93          -40.0   \n",
              "39776   999        0  nonexistent          -1.8             93          -40.0   \n",
              "39777     6        2      success          -1.8             93          -40.0   \n",
              "39778   999        0  nonexistent          -1.8             93          -40.0   \n",
              "39779   999        0  nonexistent          -1.8             93          -40.0   \n",
              "\n",
              "       euribor3m nr.employed    y  \n",
              "0          4.857      5191.0   no  \n",
              "1          4.857      5191.0   no  \n",
              "2          4.857      5191.0   no  \n",
              "3          4.857      5191.0   no  \n",
              "4          4.857      5191.0   no  \n",
              "...          ...         ...  ...  \n",
              "39775      0.701      5008.7   no  \n",
              "39776      0.701      5008.7  yes  \n",
              "39777      0.701      5008.7   no  \n",
              "39778      0.701      5008.7   no  \n",
              "39779      0.701      5008.7   no  \n",
              "\n",
              "[35406 rows x 25 columns]"
            ]
          },
          "execution_count": 15,
          "metadata": {},
          "output_type": "execute_result"
        }
      ],
      "source": [
        "# Drop baris yang bukan tahun 2009\n",
        "df=df.drop(df[df['year']!='2009'].index)\n",
        "df"
      ]
    },
    {
      "cell_type": "code",
      "execution_count": 16,
      "metadata": {
        "id": "GfDHjU_jBTy4"
      },
      "outputs": [],
      "source": [
        "# Drop kolom yang tidak terpakai\n",
        "df = df.drop(columns=['default','day_of_week','duration','pdays','emp.var.rate','nr.employed','euribor3m'])\n"
      ]
    },
    {
      "cell_type": "code",
      "execution_count": 17,
      "metadata": {
        "id": "dpsR0QF-xxZC"
      },
      "outputs": [],
      "source": [
        "# Function filter column marital\n",
        "def fill_marital(x):\n",
        "    if x == 'unknown' :\n",
        "        return 'married'\n",
        "    else:\n",
        "        return x"
      ]
    },
    {
      "cell_type": "code",
      "execution_count": 18,
      "metadata": {
        "id": "BKBUC70sxxZC"
      },
      "outputs": [],
      "source": [
        "# Filter missing value column marital\n",
        "df['marital'] = df['marital'].apply(fill_marital)"
      ]
    },
    {
      "cell_type": "code",
      "execution_count": 19,
      "metadata": {
        "id": "ygNXuyPnxxZD"
      },
      "outputs": [],
      "source": [
        "# Function filter column Job\n",
        "def fill_job(x):\n",
        "    if x == 'unknown' :\n",
        "        return 'admin.'\n",
        "    else:\n",
        "        return x"
      ]
    },
    {
      "cell_type": "code",
      "execution_count": 20,
      "metadata": {
        "id": "XaHE1Ln_xxZE"
      },
      "outputs": [],
      "source": [
        "# Filter missing value column job\n",
        "df['job'] = df['job'].apply(fill_job)"
      ]
    },
    {
      "cell_type": "code",
      "execution_count": 21,
      "metadata": {
        "id": "FiP1qGWIxxZE"
      },
      "outputs": [],
      "source": [
        "# Function filter column Education\n",
        "def fill_education(x):\n",
        "    if x == 'unknown' :\n",
        "        return 'university.degree'\n",
        "    else:\n",
        "        return x"
      ]
    },
    {
      "cell_type": "code",
      "execution_count": 22,
      "metadata": {
        "id": "DaVK8dBdxxZF"
      },
      "outputs": [],
      "source": [
        "# Filter missing value column education\n",
        "df['edu'] = df['edu'].apply(fill_education)"
      ]
    },
    {
      "cell_type": "code",
      "execution_count": 23,
      "metadata": {
        "id": "lC3VsOdq_sA3"
      },
      "outputs": [],
      "source": [
        "# Melakukan Fill missing value pada kolom housing\n",
        "def fill_housing(x):\n",
        "    if x == 'unknown' :\n",
        "        return 'yes'\n",
        "    else:\n",
        "        return x"
      ]
    },
    {
      "cell_type": "code",
      "execution_count": 24,
      "metadata": {
        "id": "5TnzIH5__sO0"
      },
      "outputs": [],
      "source": [
        "# Filter missing value column housing\n",
        "df['housing'] = df['housing'].apply(fill_housing)"
      ]
    },
    {
      "cell_type": "code",
      "execution_count": 25,
      "metadata": {
        "id": "ieLZ-DuS_seN"
      },
      "outputs": [],
      "source": [
        "# Melakukan Fill missing value pada kolom loan\n",
        "def fill_loan(x):\n",
        "    if x == 'unknown' :\n",
        "        return 'no'\n",
        "    else:\n",
        "        return x"
      ]
    },
    {
      "cell_type": "code",
      "execution_count": 26,
      "metadata": {
        "id": "2UYphnIUKMhv"
      },
      "outputs": [],
      "source": [
        "# Filter missing value column loan\n",
        "df['loan'] = df['loan'].apply(fill_loan)"
      ]
    },
    {
      "cell_type": "markdown",
      "metadata": {
        "id": "05ceoH41xxZG"
      },
      "source": [
        "# **EDA**"
      ]
    },
    {
      "cell_type": "code",
      "execution_count": 27,
      "metadata": {},
      "outputs": [
        {
          "data": {
            "text/html": [
              "<div>\n",
              "<style scoped>\n",
              "    .dataframe tbody tr th:only-of-type {\n",
              "        vertical-align: middle;\n",
              "    }\n",
              "\n",
              "    .dataframe tbody tr th {\n",
              "        vertical-align: top;\n",
              "    }\n",
              "\n",
              "    .dataframe thead th {\n",
              "        text-align: right;\n",
              "    }\n",
              "</style>\n",
              "<table border=\"1\" class=\"dataframe\">\n",
              "  <thead>\n",
              "    <tr style=\"text-align: right;\">\n",
              "      <th></th>\n",
              "      <th>age</th>\n",
              "      <th>age_range</th>\n",
              "      <th>job</th>\n",
              "      <th>marital</th>\n",
              "      <th>education</th>\n",
              "      <th>edu</th>\n",
              "      <th>housing</th>\n",
              "      <th>loan</th>\n",
              "      <th>contact</th>\n",
              "      <th>month</th>\n",
              "      <th>year</th>\n",
              "      <th>campaign</th>\n",
              "      <th>campaign_range</th>\n",
              "      <th>previous</th>\n",
              "      <th>poutcome</th>\n",
              "      <th>cons.price.idx</th>\n",
              "      <th>cons.conf.idx</th>\n",
              "      <th>y</th>\n",
              "    </tr>\n",
              "  </thead>\n",
              "  <tbody>\n",
              "    <tr>\n",
              "      <th>0</th>\n",
              "      <td>56</td>\n",
              "      <td>39-59</td>\n",
              "      <td>housemaid</td>\n",
              "      <td>married</td>\n",
              "      <td>basic.4y</td>\n",
              "      <td>basic</td>\n",
              "      <td>no</td>\n",
              "      <td>no</td>\n",
              "      <td>telephone</td>\n",
              "      <td>may</td>\n",
              "      <td>2009</td>\n",
              "      <td>1</td>\n",
              "      <td>1-10</td>\n",
              "      <td>0</td>\n",
              "      <td>nonexistent</td>\n",
              "      <td>93</td>\n",
              "      <td>-36.4</td>\n",
              "      <td>no</td>\n",
              "    </tr>\n",
              "    <tr>\n",
              "      <th>1</th>\n",
              "      <td>57</td>\n",
              "      <td>39-59</td>\n",
              "      <td>services</td>\n",
              "      <td>married</td>\n",
              "      <td>high.school</td>\n",
              "      <td>high.school</td>\n",
              "      <td>no</td>\n",
              "      <td>no</td>\n",
              "      <td>telephone</td>\n",
              "      <td>may</td>\n",
              "      <td>2009</td>\n",
              "      <td>1</td>\n",
              "      <td>1-10</td>\n",
              "      <td>0</td>\n",
              "      <td>nonexistent</td>\n",
              "      <td>93</td>\n",
              "      <td>-36.4</td>\n",
              "      <td>no</td>\n",
              "    </tr>\n",
              "    <tr>\n",
              "      <th>2</th>\n",
              "      <td>37</td>\n",
              "      <td>17-25</td>\n",
              "      <td>services</td>\n",
              "      <td>married</td>\n",
              "      <td>high.school</td>\n",
              "      <td>high.school</td>\n",
              "      <td>yes</td>\n",
              "      <td>no</td>\n",
              "      <td>telephone</td>\n",
              "      <td>may</td>\n",
              "      <td>2009</td>\n",
              "      <td>1</td>\n",
              "      <td>1-10</td>\n",
              "      <td>0</td>\n",
              "      <td>nonexistent</td>\n",
              "      <td>93</td>\n",
              "      <td>-36.4</td>\n",
              "      <td>no</td>\n",
              "    </tr>\n",
              "    <tr>\n",
              "      <th>3</th>\n",
              "      <td>40</td>\n",
              "      <td>39-59</td>\n",
              "      <td>admin.</td>\n",
              "      <td>married</td>\n",
              "      <td>basic.6y</td>\n",
              "      <td>basic</td>\n",
              "      <td>no</td>\n",
              "      <td>no</td>\n",
              "      <td>telephone</td>\n",
              "      <td>may</td>\n",
              "      <td>2009</td>\n",
              "      <td>1</td>\n",
              "      <td>1-10</td>\n",
              "      <td>0</td>\n",
              "      <td>nonexistent</td>\n",
              "      <td>93</td>\n",
              "      <td>-36.4</td>\n",
              "      <td>no</td>\n",
              "    </tr>\n",
              "    <tr>\n",
              "      <th>4</th>\n",
              "      <td>56</td>\n",
              "      <td>39-59</td>\n",
              "      <td>services</td>\n",
              "      <td>married</td>\n",
              "      <td>high.school</td>\n",
              "      <td>high.school</td>\n",
              "      <td>no</td>\n",
              "      <td>yes</td>\n",
              "      <td>telephone</td>\n",
              "      <td>may</td>\n",
              "      <td>2009</td>\n",
              "      <td>1</td>\n",
              "      <td>1-10</td>\n",
              "      <td>0</td>\n",
              "      <td>nonexistent</td>\n",
              "      <td>93</td>\n",
              "      <td>-36.4</td>\n",
              "      <td>no</td>\n",
              "    </tr>\n",
              "    <tr>\n",
              "      <th>...</th>\n",
              "      <td>...</td>\n",
              "      <td>...</td>\n",
              "      <td>...</td>\n",
              "      <td>...</td>\n",
              "      <td>...</td>\n",
              "      <td>...</td>\n",
              "      <td>...</td>\n",
              "      <td>...</td>\n",
              "      <td>...</td>\n",
              "      <td>...</td>\n",
              "      <td>...</td>\n",
              "      <td>...</td>\n",
              "      <td>...</td>\n",
              "      <td>...</td>\n",
              "      <td>...</td>\n",
              "      <td>...</td>\n",
              "      <td>...</td>\n",
              "      <td>...</td>\n",
              "    </tr>\n",
              "    <tr>\n",
              "      <th>39775</th>\n",
              "      <td>47</td>\n",
              "      <td>39-59</td>\n",
              "      <td>admin.</td>\n",
              "      <td>single</td>\n",
              "      <td>university.degree</td>\n",
              "      <td>university.degree</td>\n",
              "      <td>yes</td>\n",
              "      <td>yes</td>\n",
              "      <td>cellular</td>\n",
              "      <td>may</td>\n",
              "      <td>2009</td>\n",
              "      <td>1</td>\n",
              "      <td>1-10</td>\n",
              "      <td>0</td>\n",
              "      <td>nonexistent</td>\n",
              "      <td>93</td>\n",
              "      <td>-40.0</td>\n",
              "      <td>no</td>\n",
              "    </tr>\n",
              "    <tr>\n",
              "      <th>39776</th>\n",
              "      <td>31</td>\n",
              "      <td>17-25</td>\n",
              "      <td>admin.</td>\n",
              "      <td>single</td>\n",
              "      <td>high.school</td>\n",
              "      <td>high.school</td>\n",
              "      <td>no</td>\n",
              "      <td>no</td>\n",
              "      <td>cellular</td>\n",
              "      <td>may</td>\n",
              "      <td>2009</td>\n",
              "      <td>1</td>\n",
              "      <td>1-10</td>\n",
              "      <td>0</td>\n",
              "      <td>nonexistent</td>\n",
              "      <td>93</td>\n",
              "      <td>-40.0</td>\n",
              "      <td>yes</td>\n",
              "    </tr>\n",
              "    <tr>\n",
              "      <th>39777</th>\n",
              "      <td>31</td>\n",
              "      <td>17-25</td>\n",
              "      <td>admin.</td>\n",
              "      <td>single</td>\n",
              "      <td>high.school</td>\n",
              "      <td>high.school</td>\n",
              "      <td>no</td>\n",
              "      <td>no</td>\n",
              "      <td>cellular</td>\n",
              "      <td>may</td>\n",
              "      <td>2009</td>\n",
              "      <td>5</td>\n",
              "      <td>1-10</td>\n",
              "      <td>2</td>\n",
              "      <td>success</td>\n",
              "      <td>93</td>\n",
              "      <td>-40.0</td>\n",
              "      <td>no</td>\n",
              "    </tr>\n",
              "    <tr>\n",
              "      <th>39778</th>\n",
              "      <td>49</td>\n",
              "      <td>39-59</td>\n",
              "      <td>technician</td>\n",
              "      <td>single</td>\n",
              "      <td>university.degree</td>\n",
              "      <td>university.degree</td>\n",
              "      <td>no</td>\n",
              "      <td>no</td>\n",
              "      <td>telephone</td>\n",
              "      <td>may</td>\n",
              "      <td>2009</td>\n",
              "      <td>1</td>\n",
              "      <td>1-10</td>\n",
              "      <td>0</td>\n",
              "      <td>nonexistent</td>\n",
              "      <td>93</td>\n",
              "      <td>-40.0</td>\n",
              "      <td>no</td>\n",
              "    </tr>\n",
              "    <tr>\n",
              "      <th>39779</th>\n",
              "      <td>42</td>\n",
              "      <td>39-59</td>\n",
              "      <td>management</td>\n",
              "      <td>single</td>\n",
              "      <td>high.school</td>\n",
              "      <td>high.school</td>\n",
              "      <td>yes</td>\n",
              "      <td>no</td>\n",
              "      <td>telephone</td>\n",
              "      <td>may</td>\n",
              "      <td>2009</td>\n",
              "      <td>1</td>\n",
              "      <td>1-10</td>\n",
              "      <td>0</td>\n",
              "      <td>nonexistent</td>\n",
              "      <td>93</td>\n",
              "      <td>-40.0</td>\n",
              "      <td>no</td>\n",
              "    </tr>\n",
              "  </tbody>\n",
              "</table>\n",
              "<p>35406 rows × 18 columns</p>\n",
              "</div>"
            ],
            "text/plain": [
              "       age age_range         job  marital          education  \\\n",
              "0       56     39-59   housemaid  married           basic.4y   \n",
              "1       57     39-59    services  married        high.school   \n",
              "2       37     17-25    services  married        high.school   \n",
              "3       40     39-59      admin.  married           basic.6y   \n",
              "4       56     39-59    services  married        high.school   \n",
              "...    ...       ...         ...      ...                ...   \n",
              "39775   47     39-59      admin.   single  university.degree   \n",
              "39776   31     17-25      admin.   single        high.school   \n",
              "39777   31     17-25      admin.   single        high.school   \n",
              "39778   49     39-59  technician   single  university.degree   \n",
              "39779   42     39-59  management   single        high.school   \n",
              "\n",
              "                     edu housing loan    contact month  year  campaign  \\\n",
              "0                  basic      no   no  telephone   may  2009         1   \n",
              "1            high.school      no   no  telephone   may  2009         1   \n",
              "2            high.school     yes   no  telephone   may  2009         1   \n",
              "3                  basic      no   no  telephone   may  2009         1   \n",
              "4            high.school      no  yes  telephone   may  2009         1   \n",
              "...                  ...     ...  ...        ...   ...   ...       ...   \n",
              "39775  university.degree     yes  yes   cellular   may  2009         1   \n",
              "39776        high.school      no   no   cellular   may  2009         1   \n",
              "39777        high.school      no   no   cellular   may  2009         5   \n",
              "39778  university.degree      no   no  telephone   may  2009         1   \n",
              "39779        high.school     yes   no  telephone   may  2009         1   \n",
              "\n",
              "      campaign_range  previous     poutcome  cons.price.idx  cons.conf.idx  \\\n",
              "0               1-10         0  nonexistent              93          -36.4   \n",
              "1               1-10         0  nonexistent              93          -36.4   \n",
              "2               1-10         0  nonexistent              93          -36.4   \n",
              "3               1-10         0  nonexistent              93          -36.4   \n",
              "4               1-10         0  nonexistent              93          -36.4   \n",
              "...              ...       ...          ...             ...            ...   \n",
              "39775           1-10         0  nonexistent              93          -40.0   \n",
              "39776           1-10         0  nonexistent              93          -40.0   \n",
              "39777           1-10         2      success              93          -40.0   \n",
              "39778           1-10         0  nonexistent              93          -40.0   \n",
              "39779           1-10         0  nonexistent              93          -40.0   \n",
              "\n",
              "         y  \n",
              "0       no  \n",
              "1       no  \n",
              "2       no  \n",
              "3       no  \n",
              "4       no  \n",
              "...    ...  \n",
              "39775   no  \n",
              "39776  yes  \n",
              "39777   no  \n",
              "39778   no  \n",
              "39779   no  \n",
              "\n",
              "[35406 rows x 18 columns]"
            ]
          },
          "execution_count": 27,
          "metadata": {},
          "output_type": "execute_result"
        }
      ],
      "source": [
        "df"
      ]
    },
    {
      "cell_type": "markdown",
      "metadata": {
        "id": "umlt1ftZDWj_"
      },
      "source": [
        "## BUSINESS QUESTION 1 \n",
        "Apakah ketika nasabah sering dihubungi jadi lebih tertarik untuk melakukan deposit atau tidak?"
      ]
    },
    {
      "cell_type": "code",
      "execution_count": 28,
      "metadata": {
        "colab": {
          "base_uri": "https://localhost:8080/",
          "height": 206
        },
        "id": "5JQdLr5qDApE",
        "outputId": "ed079b94-8bd2-46fb-97d9-4284f9de4c15"
      },
      "outputs": [
        {
          "data": {
            "text/html": [
              "<div>\n",
              "<style scoped>\n",
              "    .dataframe tbody tr th:only-of-type {\n",
              "        vertical-align: middle;\n",
              "    }\n",
              "\n",
              "    .dataframe tbody tr th {\n",
              "        vertical-align: top;\n",
              "    }\n",
              "\n",
              "    .dataframe thead th {\n",
              "        text-align: right;\n",
              "    }\n",
              "</style>\n",
              "<table border=\"1\" class=\"dataframe\">\n",
              "  <thead>\n",
              "    <tr style=\"text-align: right;\">\n",
              "      <th>y</th>\n",
              "      <th>no</th>\n",
              "      <th>yes</th>\n",
              "      <th>All</th>\n",
              "    </tr>\n",
              "    <tr>\n",
              "      <th>campaign_range</th>\n",
              "      <th></th>\n",
              "      <th></th>\n",
              "      <th></th>\n",
              "    </tr>\n",
              "  </thead>\n",
              "  <tbody>\n",
              "    <tr>\n",
              "      <th>1-10</th>\n",
              "      <td>31040</td>\n",
              "      <td>3725</td>\n",
              "      <td>34765</td>\n",
              "    </tr>\n",
              "    <tr>\n",
              "      <th>11-20</th>\n",
              "      <td>520</td>\n",
              "      <td>22</td>\n",
              "      <td>542</td>\n",
              "    </tr>\n",
              "    <tr>\n",
              "      <th>21-30</th>\n",
              "      <td>75</td>\n",
              "      <td>1</td>\n",
              "      <td>76</td>\n",
              "    </tr>\n",
              "    <tr>\n",
              "      <th>31-40</th>\n",
              "      <td>18</td>\n",
              "      <td>0</td>\n",
              "      <td>18</td>\n",
              "    </tr>\n",
              "    <tr>\n",
              "      <th>&gt; 40</th>\n",
              "      <td>5</td>\n",
              "      <td>0</td>\n",
              "      <td>5</td>\n",
              "    </tr>\n",
              "    <tr>\n",
              "      <th>All</th>\n",
              "      <td>31658</td>\n",
              "      <td>3748</td>\n",
              "      <td>35406</td>\n",
              "    </tr>\n",
              "  </tbody>\n",
              "</table>\n",
              "</div>"
            ],
            "text/plain": [
              "y                  no   yes    All\n",
              "campaign_range                    \n",
              "1-10            31040  3725  34765\n",
              "11-20             520    22    542\n",
              "21-30              75     1     76\n",
              "31-40              18     0     18\n",
              "> 40                5     0      5\n",
              "All             31658  3748  35406"
            ]
          },
          "execution_count": 28,
          "metadata": {},
          "output_type": "execute_result"
        }
      ],
      "source": [
        "# Hasil tabular\n",
        "pd.crosstab(index=df['campaign_range'], columns=df['y'], margins=True)"
      ]
    },
    {
      "cell_type": "code",
      "execution_count": 29,
      "metadata": {
        "colab": {
          "base_uri": "https://localhost:8080/",
          "height": 206
        },
        "id": "wAAXv8987ACX",
        "outputId": "d2c83bcf-bcdf-4a53-f294-33b594268d85"
      },
      "outputs": [
        {
          "data": {
            "text/html": [
              "<div>\n",
              "<style scoped>\n",
              "    .dataframe tbody tr th:only-of-type {\n",
              "        vertical-align: middle;\n",
              "    }\n",
              "\n",
              "    .dataframe tbody tr th {\n",
              "        vertical-align: top;\n",
              "    }\n",
              "\n",
              "    .dataframe thead th {\n",
              "        text-align: right;\n",
              "    }\n",
              "</style>\n",
              "<table border=\"1\" class=\"dataframe\">\n",
              "  <thead>\n",
              "    <tr style=\"text-align: right;\">\n",
              "      <th>y</th>\n",
              "      <th>no</th>\n",
              "      <th>yes</th>\n",
              "    </tr>\n",
              "    <tr>\n",
              "      <th>campaign_range</th>\n",
              "      <th></th>\n",
              "      <th></th>\n",
              "    </tr>\n",
              "  </thead>\n",
              "  <tbody>\n",
              "    <tr>\n",
              "      <th>1-10</th>\n",
              "      <td>0.89</td>\n",
              "      <td>0.11</td>\n",
              "    </tr>\n",
              "    <tr>\n",
              "      <th>11-20</th>\n",
              "      <td>0.96</td>\n",
              "      <td>0.04</td>\n",
              "    </tr>\n",
              "    <tr>\n",
              "      <th>21-30</th>\n",
              "      <td>0.99</td>\n",
              "      <td>0.01</td>\n",
              "    </tr>\n",
              "    <tr>\n",
              "      <th>31-40</th>\n",
              "      <td>1.00</td>\n",
              "      <td>0.00</td>\n",
              "    </tr>\n",
              "    <tr>\n",
              "      <th>&gt; 40</th>\n",
              "      <td>1.00</td>\n",
              "      <td>0.00</td>\n",
              "    </tr>\n",
              "  </tbody>\n",
              "</table>\n",
              "</div>"
            ],
            "text/plain": [
              "y                 no   yes\n",
              "campaign_range            \n",
              "1-10            0.89  0.11\n",
              "11-20           0.96  0.04\n",
              "21-30           0.99  0.01\n",
              "31-40           1.00  0.00\n",
              "> 40            1.00  0.00"
            ]
          },
          "execution_count": 29,
          "metadata": {},
          "output_type": "execute_result"
        }
      ],
      "source": [
        "crosstb1 = (pd.crosstab(index=df['campaign_range'], columns=df['y'],normalize='index')).round(2)\n",
        "crosstb1\n"
      ]
    },
    {
      "cell_type": "code",
      "execution_count": 30,
      "metadata": {},
      "outputs": [
        {
          "data": {
            "text/plain": [
              "<Figure size 10000x4000 with 0 Axes>"
            ]
          },
          "metadata": {},
          "output_type": "display_data"
        },
        {
          "data": {
            "image/png": "[encoded data removed]",
            "text/plain": [
              "<Figure size 432x288 with 1 Axes>"
            ]
          },
          "metadata": {
            "needs_background": "light"
          },
          "output_type": "display_data"
        }
      ],
      "source": [
        "plt.figure(figsize=(50,20),dpi=200)\n",
        "barplot1 = crosstb1.plot.bar(rot=0)\n",
        "plt.title(\"Total Campaign Range Nasabah Membuka Deposito\",size=10)\n",
        "plt.xlabel('Campaign Range (Menghubungi Nasabah)', size=10, labelpad=10)\n",
        "plt.ylabel('Total Deposito (dalam %)', size=10, labelpad=10)\n",
        "plt.xticks(size=10,rotation=15)\n",
        "plt.yticks(size=10)\n",
        "plt.savefig('Visualisasi Business Question 1.jpeg')\n",
        "plt.show(barplot1)"
      ]
    },
    {
      "cell_type": "markdown",
      "metadata": {
        "id": "ftX4BqVJEVqf"
      },
      "source": [
        "## BUSINESS QUESTION 2 \n",
        "Manakah yang lebih efektif saat menelefon nasabah, menggunakan celullar atau telephone?\n"
      ]
    },
    {
      "cell_type": "code",
      "execution_count": 31,
      "metadata": {},
      "outputs": [
        {
          "data": {
            "text/html": [
              "<div>\n",
              "<style scoped>\n",
              "    .dataframe tbody tr th:only-of-type {\n",
              "        vertical-align: middle;\n",
              "    }\n",
              "\n",
              "    .dataframe tbody tr th {\n",
              "        vertical-align: top;\n",
              "    }\n",
              "\n",
              "    .dataframe thead th {\n",
              "        text-align: right;\n",
              "    }\n",
              "</style>\n",
              "<table border=\"1\" class=\"dataframe\">\n",
              "  <thead>\n",
              "    <tr style=\"text-align: right;\">\n",
              "      <th>y</th>\n",
              "      <th>no</th>\n",
              "      <th>yes</th>\n",
              "    </tr>\n",
              "    <tr>\n",
              "      <th>contact</th>\n",
              "      <th></th>\n",
              "      <th></th>\n",
              "    </tr>\n",
              "  </thead>\n",
              "  <tbody>\n",
              "    <tr>\n",
              "      <th>cellular</th>\n",
              "      <td>21813</td>\n",
              "      <td>3207</td>\n",
              "    </tr>\n",
              "    <tr>\n",
              "      <th>telephone</th>\n",
              "      <td>9845</td>\n",
              "      <td>541</td>\n",
              "    </tr>\n",
              "  </tbody>\n",
              "</table>\n",
              "</div>"
            ],
            "text/plain": [
              "y             no   yes\n",
              "contact               \n",
              "cellular   21813  3207\n",
              "telephone   9845   541"
            ]
          },
          "execution_count": 31,
          "metadata": {},
          "output_type": "execute_result"
        }
      ],
      "source": [
        "pd.crosstab(index=df['contact'], columns=df['y'])"
      ]
    },
    {
      "cell_type": "code",
      "execution_count": 32,
      "metadata": {
        "colab": {
          "base_uri": "https://localhost:8080/",
          "height": 143
        },
        "id": "7FkEWBZ0GJYV",
        "outputId": "520f1075-fb09-4fe1-c45f-f8661b5d369e"
      },
      "outputs": [
        {
          "data": {
            "text/html": [
              "<div>\n",
              "<style scoped>\n",
              "    .dataframe tbody tr th:only-of-type {\n",
              "        vertical-align: middle;\n",
              "    }\n",
              "\n",
              "    .dataframe tbody tr th {\n",
              "        vertical-align: top;\n",
              "    }\n",
              "\n",
              "    .dataframe thead th {\n",
              "        text-align: right;\n",
              "    }\n",
              "</style>\n",
              "<table border=\"1\" class=\"dataframe\">\n",
              "  <thead>\n",
              "    <tr style=\"text-align: right;\">\n",
              "      <th>y</th>\n",
              "      <th>no</th>\n",
              "      <th>yes</th>\n",
              "    </tr>\n",
              "    <tr>\n",
              "      <th>contact</th>\n",
              "      <th></th>\n",
              "      <th></th>\n",
              "    </tr>\n",
              "  </thead>\n",
              "  <tbody>\n",
              "    <tr>\n",
              "      <th>cellular</th>\n",
              "      <td>0.87</td>\n",
              "      <td>0.13</td>\n",
              "    </tr>\n",
              "    <tr>\n",
              "      <th>telephone</th>\n",
              "      <td>0.95</td>\n",
              "      <td>0.05</td>\n",
              "    </tr>\n",
              "  </tbody>\n",
              "</table>\n",
              "</div>"
            ],
            "text/plain": [
              "y            no   yes\n",
              "contact              \n",
              "cellular   0.87  0.13\n",
              "telephone  0.95  0.05"
            ]
          },
          "execution_count": 32,
          "metadata": {},
          "output_type": "execute_result"
        }
      ],
      "source": [
        "# Hasil Tabular\n",
        "crostab2 = (pd.crosstab(index=df['contact'], columns=df['y'], normalize='index')).round(2)\n",
        "crostab2"
      ]
    },
    {
      "cell_type": "code",
      "execution_count": 33,
      "metadata": {},
      "outputs": [
        {
          "data": {
            "text/plain": [
              "<Figure size 3750x1500 with 0 Axes>"
            ]
          },
          "metadata": {},
          "output_type": "display_data"
        },
        {
          "data": {
            "image/png": "[encoded data removed]",
            "text/plain": [
              "<Figure size 432x288 with 1 Axes>"
            ]
          },
          "metadata": {
            "needs_background": "light"
          },
          "output_type": "display_data"
        }
      ],
      "source": [
        "plt.figure(figsize=(25,10),dpi=150)\n",
        "barplot2 = crostab2.plot.bar(rot=0)\n",
        "plt.title(\"Total Nasabah yang Membuka Deposito Melalui Telephone dan Cellular\",size=12,pad=20)\n",
        "plt.xlabel(\"Perangkat\",size=12)\n",
        "plt.ylabel(\"Total Deposito (dalam %)\",size=12)\n",
        "plt.xticks(size=10)\n",
        "plt.yticks(size=10)\n",
        "plt.savefig('Visualisasi Business Question 2.jpeg')\n",
        "plt.show()"
      ]
    },
    {
      "cell_type": "markdown",
      "metadata": {
        "id": "EtVt5s4kGhUN"
      },
      "source": [
        "## BUSINESS QUESTION 3\n",
        "Bulan apa yang tepat untuk melakukan campaign?"
      ]
    },
    {
      "cell_type": "code",
      "execution_count": 34,
      "metadata": {
        "colab": {
          "base_uri": "https://localhost:8080/",
          "height": 363
        },
        "id": "o35KZ9osHlae",
        "outputId": "eba269b2-1eb2-46e4-b7c1-219523dff86d"
      },
      "outputs": [
        {
          "data": {
            "text/html": [
              "<div>\n",
              "<style scoped>\n",
              "    .dataframe tbody tr th:only-of-type {\n",
              "        vertical-align: middle;\n",
              "    }\n",
              "\n",
              "    .dataframe tbody tr th {\n",
              "        vertical-align: top;\n",
              "    }\n",
              "\n",
              "    .dataframe thead th {\n",
              "        text-align: right;\n",
              "    }\n",
              "</style>\n",
              "<table border=\"1\" class=\"dataframe\">\n",
              "  <thead>\n",
              "    <tr style=\"text-align: right;\">\n",
              "      <th>y</th>\n",
              "      <th>no</th>\n",
              "      <th>yes</th>\n",
              "      <th>All</th>\n",
              "    </tr>\n",
              "    <tr>\n",
              "      <th>month</th>\n",
              "      <th></th>\n",
              "      <th></th>\n",
              "      <th></th>\n",
              "    </tr>\n",
              "  </thead>\n",
              "  <tbody>\n",
              "    <tr>\n",
              "      <th>apr</th>\n",
              "      <td>2093</td>\n",
              "      <td>539</td>\n",
              "      <td>2632</td>\n",
              "    </tr>\n",
              "    <tr>\n",
              "      <th>aug</th>\n",
              "      <td>5410</td>\n",
              "      <td>535</td>\n",
              "      <td>5945</td>\n",
              "    </tr>\n",
              "    <tr>\n",
              "      <th>dec</th>\n",
              "      <td>93</td>\n",
              "      <td>89</td>\n",
              "      <td>182</td>\n",
              "    </tr>\n",
              "    <tr>\n",
              "      <th>jul</th>\n",
              "      <td>6390</td>\n",
              "      <td>473</td>\n",
              "      <td>6863</td>\n",
              "    </tr>\n",
              "    <tr>\n",
              "      <th>jun</th>\n",
              "      <td>451</td>\n",
              "      <td>264</td>\n",
              "      <td>715</td>\n",
              "    </tr>\n",
              "    <tr>\n",
              "      <th>mar</th>\n",
              "      <td>270</td>\n",
              "      <td>276</td>\n",
              "      <td>546</td>\n",
              "    </tr>\n",
              "    <tr>\n",
              "      <th>may</th>\n",
              "      <td>12883</td>\n",
              "      <td>886</td>\n",
              "      <td>13769</td>\n",
              "    </tr>\n",
              "    <tr>\n",
              "      <th>nov</th>\n",
              "      <td>3615</td>\n",
              "      <td>358</td>\n",
              "      <td>3973</td>\n",
              "    </tr>\n",
              "    <tr>\n",
              "      <th>oct</th>\n",
              "      <td>292</td>\n",
              "      <td>222</td>\n",
              "      <td>514</td>\n",
              "    </tr>\n",
              "    <tr>\n",
              "      <th>sep</th>\n",
              "      <td>161</td>\n",
              "      <td>106</td>\n",
              "      <td>267</td>\n",
              "    </tr>\n",
              "    <tr>\n",
              "      <th>All</th>\n",
              "      <td>31658</td>\n",
              "      <td>3748</td>\n",
              "      <td>35406</td>\n",
              "    </tr>\n",
              "  </tbody>\n",
              "</table>\n",
              "</div>"
            ],
            "text/plain": [
              "y         no   yes    All\n",
              "month                    \n",
              "apr     2093   539   2632\n",
              "aug     5410   535   5945\n",
              "dec       93    89    182\n",
              "jul     6390   473   6863\n",
              "jun      451   264    715\n",
              "mar      270   276    546\n",
              "may    12883   886  13769\n",
              "nov     3615   358   3973\n",
              "oct      292   222    514\n",
              "sep      161   106    267\n",
              "All    31658  3748  35406"
            ]
          },
          "execution_count": 34,
          "metadata": {},
          "output_type": "execute_result"
        }
      ],
      "source": [
        "# Hasil Tabular\n",
        "pd.crosstab(index=df['month'], columns=df['y'], margins=True)\n"
      ]
    },
    {
      "cell_type": "code",
      "execution_count": 35,
      "metadata": {},
      "outputs": [
        {
          "data": {
            "text/html": [
              "<div>\n",
              "<style scoped>\n",
              "    .dataframe tbody tr th:only-of-type {\n",
              "        vertical-align: middle;\n",
              "    }\n",
              "\n",
              "    .dataframe tbody tr th {\n",
              "        vertical-align: top;\n",
              "    }\n",
              "\n",
              "    .dataframe thead th {\n",
              "        text-align: right;\n",
              "    }\n",
              "</style>\n",
              "<table border=\"1\" class=\"dataframe\">\n",
              "  <thead>\n",
              "    <tr style=\"text-align: right;\">\n",
              "      <th>y</th>\n",
              "      <th>no</th>\n",
              "      <th>yes</th>\n",
              "    </tr>\n",
              "    <tr>\n",
              "      <th>month</th>\n",
              "      <th></th>\n",
              "      <th></th>\n",
              "    </tr>\n",
              "  </thead>\n",
              "  <tbody>\n",
              "    <tr>\n",
              "      <th>apr</th>\n",
              "      <td>0.80</td>\n",
              "      <td>0.20</td>\n",
              "    </tr>\n",
              "    <tr>\n",
              "      <th>aug</th>\n",
              "      <td>0.91</td>\n",
              "      <td>0.09</td>\n",
              "    </tr>\n",
              "    <tr>\n",
              "      <th>dec</th>\n",
              "      <td>0.51</td>\n",
              "      <td>0.49</td>\n",
              "    </tr>\n",
              "    <tr>\n",
              "      <th>jul</th>\n",
              "      <td>0.93</td>\n",
              "      <td>0.07</td>\n",
              "    </tr>\n",
              "    <tr>\n",
              "      <th>jun</th>\n",
              "      <td>0.63</td>\n",
              "      <td>0.37</td>\n",
              "    </tr>\n",
              "    <tr>\n",
              "      <th>mar</th>\n",
              "      <td>0.49</td>\n",
              "      <td>0.51</td>\n",
              "    </tr>\n",
              "    <tr>\n",
              "      <th>may</th>\n",
              "      <td>0.94</td>\n",
              "      <td>0.06</td>\n",
              "    </tr>\n",
              "    <tr>\n",
              "      <th>nov</th>\n",
              "      <td>0.91</td>\n",
              "      <td>0.09</td>\n",
              "    </tr>\n",
              "    <tr>\n",
              "      <th>oct</th>\n",
              "      <td>0.57</td>\n",
              "      <td>0.43</td>\n",
              "    </tr>\n",
              "    <tr>\n",
              "      <th>sep</th>\n",
              "      <td>0.60</td>\n",
              "      <td>0.40</td>\n",
              "    </tr>\n",
              "  </tbody>\n",
              "</table>\n",
              "</div>"
            ],
            "text/plain": [
              "y        no   yes\n",
              "month            \n",
              "apr    0.80  0.20\n",
              "aug    0.91  0.09\n",
              "dec    0.51  0.49\n",
              "jul    0.93  0.07\n",
              "jun    0.63  0.37\n",
              "mar    0.49  0.51\n",
              "may    0.94  0.06\n",
              "nov    0.91  0.09\n",
              "oct    0.57  0.43\n",
              "sep    0.60  0.40"
            ]
          },
          "execution_count": 35,
          "metadata": {},
          "output_type": "execute_result"
        }
      ],
      "source": [
        "crosstab3 = (pd.crosstab(index=df['month'], columns=df['y'], normalize='index')).round(2)\n",
        "crosstab3"
      ]
    },
    {
      "cell_type": "code",
      "execution_count": 36,
      "metadata": {},
      "outputs": [
        {
          "data": {
            "text/plain": [
              "<Figure size 3750x1500 with 0 Axes>"
            ]
          },
          "metadata": {},
          "output_type": "display_data"
        },
        {
          "data": {
            "image/png": "[encoded data removed]",
            "text/plain": [
              "<Figure size 432x288 with 1 Axes>"
            ]
          },
          "metadata": {
            "needs_background": "light"
          },
          "output_type": "display_data"
        }
      ],
      "source": [
        "plt.figure(figsize=(25,10),dpi=150)\n",
        "barplot3 = crosstab3.plot.bar(rot=0)\n",
        "plt.title(\"Bulan Nasabah Membuka Deposito\",size=12,pad=20)\n",
        "plt.xlabel(\"Bulan\",size=12)\n",
        "plt.ylabel(\"Total Deposito (dalam %)\",size=12)\n",
        "plt.xticks(size=10)\n",
        "plt.yticks(size=10)\n",
        "plt.savefig('Visualisasi Business Question 3.jpeg')\n",
        "plt.show()"
      ]
    },
    {
      "cell_type": "markdown",
      "metadata": {
        "id": "AU5frHb9H49J"
      },
      "source": [
        "## BUSINESS QUESTION 4 \n",
        "Apakah umur dapat mempengaruhi nasabah dalam mengambil keputusan deposito?"
      ]
    },
    {
      "cell_type": "code",
      "execution_count": 37,
      "metadata": {
        "colab": {
          "base_uri": "https://localhost:8080/",
          "height": 363
        },
        "id": "SqVr3iZiP0Bm",
        "outputId": "8b164541-bb2a-4621-e576-bba365e271c3"
      },
      "outputs": [
        {
          "data": {
            "text/html": [
              "<div>\n",
              "<style scoped>\n",
              "    .dataframe tbody tr th:only-of-type {\n",
              "        vertical-align: middle;\n",
              "    }\n",
              "\n",
              "    .dataframe tbody tr th {\n",
              "        vertical-align: top;\n",
              "    }\n",
              "\n",
              "    .dataframe thead th {\n",
              "        text-align: right;\n",
              "    }\n",
              "</style>\n",
              "<table border=\"1\" class=\"dataframe\">\n",
              "  <thead>\n",
              "    <tr style=\"text-align: right;\">\n",
              "      <th>y</th>\n",
              "      <th>no</th>\n",
              "      <th>yes</th>\n",
              "    </tr>\n",
              "    <tr>\n",
              "      <th>age_range</th>\n",
              "      <th></th>\n",
              "      <th></th>\n",
              "    </tr>\n",
              "  </thead>\n",
              "  <tbody>\n",
              "    <tr>\n",
              "      <th>17-25</th>\n",
              "      <td>0.89</td>\n",
              "      <td>0.11</td>\n",
              "    </tr>\n",
              "    <tr>\n",
              "      <th>25-39</th>\n",
              "      <td>0.92</td>\n",
              "      <td>0.08</td>\n",
              "    </tr>\n",
              "    <tr>\n",
              "      <th>39-59</th>\n",
              "      <td>0.91</td>\n",
              "      <td>0.09</td>\n",
              "    </tr>\n",
              "    <tr>\n",
              "      <th>&gt;59</th>\n",
              "      <td>0.63</td>\n",
              "      <td>0.37</td>\n",
              "    </tr>\n",
              "  </tbody>\n",
              "</table>\n",
              "</div>"
            ],
            "text/plain": [
              "y            no   yes\n",
              "age_range            \n",
              "17-25      0.89  0.11\n",
              "25-39      0.92  0.08\n",
              "39-59      0.91  0.09\n",
              ">59        0.63  0.37"
            ]
          },
          "execution_count": 37,
          "metadata": {},
          "output_type": "execute_result"
        }
      ],
      "source": [
        "# Hasil tabular\n",
        "crosstb4 = pd.crosstab(index=df['age_range'], columns=df['y'],normalize='index').round(2).sort_values(by=['age_range'],ascending=True)\n",
        "crosstb4"
      ]
    },
    {
      "cell_type": "code",
      "execution_count": 38,
      "metadata": {
        "colab": {
          "base_uri": "https://localhost:8080/",
          "height": 332
        },
        "id": "lsxe79XPiPGB",
        "outputId": "88b1daa8-c88f-44ab-ac5c-253394a86d8f"
      },
      "outputs": [
        {
          "data": {
            "text/plain": [
              "<Figure size 3000x1500 with 0 Axes>"
            ]
          },
          "metadata": {},
          "output_type": "display_data"
        },
        {
          "data": {
            "image/png": "[encoded data removed]",
            "text/plain": [
              "<Figure size 432x288 with 1 Axes>"
            ]
          },
          "metadata": {
            "needs_background": "light"
          },
          "output_type": "display_data"
        }
      ],
      "source": [
        "plt.figure(figsize=(20,10),dpi=150)\n",
        "barplot4 = crosstb4.plot.bar(rot=1)\n",
        "plt.title(\"Hubungan Umur dan Keputusan Membuka Deposito\",size=12,pad=20)\n",
        "plt.xlabel(\"Age_Range\",size=12)\n",
        "plt.ylabel('Total Deposito (dalam %)',size=12)\n",
        "plt.xticks(size=10,rotation=90)\n",
        "plt.yticks(size=10)\n",
        "plt.savefig('Visualisasi Business Question 4.jpeg')\n",
        "plt.show()\n"
      ]
    },
    {
      "cell_type": "markdown",
      "metadata": {
        "id": "xE_Y2pEq03PV"
      },
      "source": [
        "## BUSINESS QUESTION 5\n",
        "Apakah status pernikahan dapat mempengaruhi nasabah dalam mengambil keputusan deposito?"
      ]
    },
    {
      "cell_type": "code",
      "execution_count": 39,
      "metadata": {
        "colab": {
          "base_uri": "https://localhost:8080/",
          "height": 175
        },
        "id": "wV3i2NF81DlG",
        "outputId": "b1158eec-bdc1-4051-c6b6-e0e8ff9e6443"
      },
      "outputs": [
        {
          "data": {
            "text/html": [
              "<div>\n",
              "<style scoped>\n",
              "    .dataframe tbody tr th:only-of-type {\n",
              "        vertical-align: middle;\n",
              "    }\n",
              "\n",
              "    .dataframe tbody tr th {\n",
              "        vertical-align: top;\n",
              "    }\n",
              "\n",
              "    .dataframe thead th {\n",
              "        text-align: right;\n",
              "    }\n",
              "</style>\n",
              "<table border=\"1\" class=\"dataframe\">\n",
              "  <thead>\n",
              "    <tr style=\"text-align: right;\">\n",
              "      <th>y</th>\n",
              "      <th>no</th>\n",
              "      <th>yes</th>\n",
              "    </tr>\n",
              "    <tr>\n",
              "      <th>marital</th>\n",
              "      <th></th>\n",
              "      <th></th>\n",
              "    </tr>\n",
              "  </thead>\n",
              "  <tbody>\n",
              "    <tr>\n",
              "      <th>divorced</th>\n",
              "      <td>3581</td>\n",
              "      <td>381</td>\n",
              "    </tr>\n",
              "    <tr>\n",
              "      <th>married</th>\n",
              "      <td>19360</td>\n",
              "      <td>2068</td>\n",
              "    </tr>\n",
              "    <tr>\n",
              "      <th>single</th>\n",
              "      <td>8717</td>\n",
              "      <td>1299</td>\n",
              "    </tr>\n",
              "  </tbody>\n",
              "</table>\n",
              "</div>"
            ],
            "text/plain": [
              "y            no   yes\n",
              "marital              \n",
              "divorced   3581   381\n",
              "married   19360  2068\n",
              "single     8717  1299"
            ]
          },
          "execution_count": 39,
          "metadata": {},
          "output_type": "execute_result"
        }
      ],
      "source": [
        "# Hasil tabular\n",
        "pd.crosstab(index=df['marital'], columns=df['y'])"
      ]
    },
    {
      "cell_type": "code",
      "execution_count": 40,
      "metadata": {},
      "outputs": [
        {
          "data": {
            "text/html": [
              "<div>\n",
              "<style scoped>\n",
              "    .dataframe tbody tr th:only-of-type {\n",
              "        vertical-align: middle;\n",
              "    }\n",
              "\n",
              "    .dataframe tbody tr th {\n",
              "        vertical-align: top;\n",
              "    }\n",
              "\n",
              "    .dataframe thead th {\n",
              "        text-align: right;\n",
              "    }\n",
              "</style>\n",
              "<table border=\"1\" class=\"dataframe\">\n",
              "  <thead>\n",
              "    <tr style=\"text-align: right;\">\n",
              "      <th>y</th>\n",
              "      <th>no</th>\n",
              "      <th>yes</th>\n",
              "    </tr>\n",
              "    <tr>\n",
              "      <th>marital</th>\n",
              "      <th></th>\n",
              "      <th></th>\n",
              "    </tr>\n",
              "  </thead>\n",
              "  <tbody>\n",
              "    <tr>\n",
              "      <th>divorced</th>\n",
              "      <td>0.90</td>\n",
              "      <td>0.10</td>\n",
              "    </tr>\n",
              "    <tr>\n",
              "      <th>married</th>\n",
              "      <td>0.90</td>\n",
              "      <td>0.10</td>\n",
              "    </tr>\n",
              "    <tr>\n",
              "      <th>single</th>\n",
              "      <td>0.87</td>\n",
              "      <td>0.13</td>\n",
              "    </tr>\n",
              "  </tbody>\n",
              "</table>\n",
              "</div>"
            ],
            "text/plain": [
              "y           no   yes\n",
              "marital             \n",
              "divorced  0.90  0.10\n",
              "married   0.90  0.10\n",
              "single    0.87  0.13"
            ]
          },
          "execution_count": 40,
          "metadata": {},
          "output_type": "execute_result"
        }
      ],
      "source": [
        "crosstb5 = (pd.crosstab(index=df['marital'], columns=df['y'],normalize='index')).round(2)\n",
        "crosstb5"
      ]
    },
    {
      "cell_type": "code",
      "execution_count": 41,
      "metadata": {
        "id": "wBIydTw3qi7A"
      },
      "outputs": [
        {
          "data": {
            "text/plain": [
              "<Figure size 3000x1500 with 0 Axes>"
            ]
          },
          "metadata": {},
          "output_type": "display_data"
        },
        {
          "data": {
            "image/png": "[encoded data removed]",
            "text/plain": [
              "<Figure size 432x288 with 1 Axes>"
            ]
          },
          "metadata": {
            "needs_background": "light"
          },
          "output_type": "display_data"
        }
      ],
      "source": [
        "plt.figure(figsize=(20,10),dpi=150)\n",
        "barplot5 = crosstb5.plot.bar(rot=1)\n",
        "plt.title(\"Hubungan Status Pernikahan dengan Keputusan Membuka Deposito\",size=12,pad=20)\n",
        "plt.xlabel(\"Status Pernikahan\",size=12)\n",
        "plt.ylabel('Total Deposito (dalam %)',size=12)\n",
        "plt.xticks(size=10)\n",
        "plt.yticks(size=10)\n",
        "plt.savefig('Visualisasi Business Question 5.jpeg')\n",
        "plt.show()"
      ]
    },
    {
      "cell_type": "markdown",
      "metadata": {
        "id": "-s-NNXgpImXo"
      },
      "source": [
        "## BUSINESS QUESTION 6\n",
        "Apakah jenjang pendidikan dapat mempengaruhi nasabah dalam mengambil keputusan deposito?"
      ]
    },
    {
      "cell_type": "code",
      "execution_count": 42,
      "metadata": {
        "colab": {
          "base_uri": "https://localhost:8080/",
          "height": 269
        },
        "id": "SNCuXaQpQLXB",
        "outputId": "4b8a978a-f10d-45f1-c875-50c0a4a5427c"
      },
      "outputs": [
        {
          "data": {
            "text/html": [
              "<div>\n",
              "<style scoped>\n",
              "    .dataframe tbody tr th:only-of-type {\n",
              "        vertical-align: middle;\n",
              "    }\n",
              "\n",
              "    .dataframe tbody tr th {\n",
              "        vertical-align: top;\n",
              "    }\n",
              "\n",
              "    .dataframe thead th {\n",
              "        text-align: right;\n",
              "    }\n",
              "</style>\n",
              "<table border=\"1\" class=\"dataframe\">\n",
              "  <thead>\n",
              "    <tr style=\"text-align: right;\">\n",
              "      <th>y</th>\n",
              "      <th>no</th>\n",
              "      <th>yes</th>\n",
              "      <th>All</th>\n",
              "    </tr>\n",
              "    <tr>\n",
              "      <th>edu</th>\n",
              "      <th></th>\n",
              "      <th></th>\n",
              "      <th></th>\n",
              "    </tr>\n",
              "  </thead>\n",
              "  <tbody>\n",
              "    <tr>\n",
              "      <th>All</th>\n",
              "      <td>31658</td>\n",
              "      <td>3748</td>\n",
              "      <td>35406</td>\n",
              "    </tr>\n",
              "    <tr>\n",
              "      <th>university.degree</th>\n",
              "      <td>10556</td>\n",
              "      <td>1549</td>\n",
              "      <td>12105</td>\n",
              "    </tr>\n",
              "    <tr>\n",
              "      <th>basic</th>\n",
              "      <td>9718</td>\n",
              "      <td>899</td>\n",
              "      <td>10617</td>\n",
              "    </tr>\n",
              "    <tr>\n",
              "      <th>high.school</th>\n",
              "      <td>7308</td>\n",
              "      <td>832</td>\n",
              "      <td>8140</td>\n",
              "    </tr>\n",
              "    <tr>\n",
              "      <th>professional.course</th>\n",
              "      <td>4062</td>\n",
              "      <td>464</td>\n",
              "      <td>4526</td>\n",
              "    </tr>\n",
              "    <tr>\n",
              "      <th>illiterate</th>\n",
              "      <td>14</td>\n",
              "      <td>4</td>\n",
              "      <td>18</td>\n",
              "    </tr>\n",
              "  </tbody>\n",
              "</table>\n",
              "</div>"
            ],
            "text/plain": [
              "y                       no   yes    All\n",
              "edu                                    \n",
              "All                  31658  3748  35406\n",
              "university.degree    10556  1549  12105\n",
              "basic                 9718   899  10617\n",
              "high.school           7308   832   8140\n",
              "professional.course   4062   464   4526\n",
              "illiterate              14     4     18"
            ]
          },
          "execution_count": 42,
          "metadata": {},
          "output_type": "execute_result"
        }
      ],
      "source": [
        "# Hasil Tabular\n",
        "pd.crosstab(index=df['edu'], columns=df['y'], margins=True).sort_values('yes', ascending=False)"
      ]
    },
    {
      "cell_type": "code",
      "execution_count": 43,
      "metadata": {
        "colab": {
          "base_uri": "https://localhost:8080/",
          "height": 237
        },
        "id": "r0wAvANcqh4m",
        "outputId": "4fa858a9-70fc-4340-a19c-e4519a838b41"
      },
      "outputs": [
        {
          "data": {
            "text/html": [
              "<div>\n",
              "<style scoped>\n",
              "    .dataframe tbody tr th:only-of-type {\n",
              "        vertical-align: middle;\n",
              "    }\n",
              "\n",
              "    .dataframe tbody tr th {\n",
              "        vertical-align: top;\n",
              "    }\n",
              "\n",
              "    .dataframe thead th {\n",
              "        text-align: right;\n",
              "    }\n",
              "</style>\n",
              "<table border=\"1\" class=\"dataframe\">\n",
              "  <thead>\n",
              "    <tr style=\"text-align: right;\">\n",
              "      <th>y</th>\n",
              "      <th>no</th>\n",
              "      <th>yes</th>\n",
              "    </tr>\n",
              "    <tr>\n",
              "      <th>edu</th>\n",
              "      <th></th>\n",
              "      <th></th>\n",
              "    </tr>\n",
              "  </thead>\n",
              "  <tbody>\n",
              "    <tr>\n",
              "      <th>basic</th>\n",
              "      <td>0.27</td>\n",
              "      <td>0.03</td>\n",
              "    </tr>\n",
              "    <tr>\n",
              "      <th>high.school</th>\n",
              "      <td>0.21</td>\n",
              "      <td>0.02</td>\n",
              "    </tr>\n",
              "    <tr>\n",
              "      <th>illiterate</th>\n",
              "      <td>0.00</td>\n",
              "      <td>0.00</td>\n",
              "    </tr>\n",
              "    <tr>\n",
              "      <th>professional.course</th>\n",
              "      <td>0.11</td>\n",
              "      <td>0.01</td>\n",
              "    </tr>\n",
              "    <tr>\n",
              "      <th>university.degree</th>\n",
              "      <td>0.30</td>\n",
              "      <td>0.04</td>\n",
              "    </tr>\n",
              "  </tbody>\n",
              "</table>\n",
              "</div>"
            ],
            "text/plain": [
              "y                      no   yes\n",
              "edu                            \n",
              "basic                0.27  0.03\n",
              "high.school          0.21  0.02\n",
              "illiterate           0.00  0.00\n",
              "professional.course  0.11  0.01\n",
              "university.degree    0.30  0.04"
            ]
          },
          "execution_count": 43,
          "metadata": {},
          "output_type": "execute_result"
        }
      ],
      "source": [
        "crosstb6 = (pd.crosstab(index=df['edu'], columns=df['y'], normalize=True)).round(2)\n",
        "crosstb6"
      ]
    },
    {
      "cell_type": "code",
      "execution_count": 44,
      "metadata": {},
      "outputs": [
        {
          "data": {
            "text/plain": [
              "<Figure size 3000x1500 with 0 Axes>"
            ]
          },
          "metadata": {},
          "output_type": "display_data"
        },
        {
          "data": {
            "image/png": "[encoded data removed]",
            "text/plain": [
              "<Figure size 432x288 with 1 Axes>"
            ]
          },
          "metadata": {
            "needs_background": "light"
          },
          "output_type": "display_data"
        }
      ],
      "source": [
        "\n",
        "plt.figure(figsize=(20,10),dpi=150)\n",
        "barplot6 = crosstb6.plot.bar(rot=1)\n",
        "plt.title(\"Hubungan Jenjang Pendidikan dengan Keputusan Membuka Deposito\",size=12,pad=20)\n",
        "plt.xlabel(\"Jenjang Pendidikan\",size=12)\n",
        "plt.ylabel('Total Deposito (dalam %)',size=12)\n",
        "plt.xticks(size=10,rotation=90)\n",
        "plt.yticks(size=10)\n",
        "plt.savefig('Visualisasi Business Question 6.jpeg')\n",
        "plt.show()"
      ]
    },
    {
      "cell_type": "markdown",
      "metadata": {
        "id": "KiVwzZQ5JOqy"
      },
      "source": [
        "## BUSINESS QUESTION 7\n",
        "Apakah keberhasilan campaign sebelumnya dapat mempengaruhi nasabah dalam mengambil keputusan deposito?"
      ]
    },
    {
      "cell_type": "code",
      "execution_count": 45,
      "metadata": {
        "id": "Ia00vqV0UD-o"
      },
      "outputs": [
        {
          "data": {
            "text/html": [
              "<div>\n",
              "<style scoped>\n",
              "    .dataframe tbody tr th:only-of-type {\n",
              "        vertical-align: middle;\n",
              "    }\n",
              "\n",
              "    .dataframe tbody tr th {\n",
              "        vertical-align: top;\n",
              "    }\n",
              "\n",
              "    .dataframe thead th {\n",
              "        text-align: right;\n",
              "    }\n",
              "</style>\n",
              "<table border=\"1\" class=\"dataframe\">\n",
              "  <thead>\n",
              "    <tr style=\"text-align: right;\">\n",
              "      <th>col_0</th>\n",
              "      <th>Jumlah</th>\n",
              "    </tr>\n",
              "    <tr>\n",
              "      <th>poutcome</th>\n",
              "      <th></th>\n",
              "    </tr>\n",
              "  </thead>\n",
              "  <tbody>\n",
              "    <tr>\n",
              "      <th>failure</th>\n",
              "      <td>3869</td>\n",
              "    </tr>\n",
              "    <tr>\n",
              "      <th>nonexistent</th>\n",
              "      <td>30611</td>\n",
              "    </tr>\n",
              "    <tr>\n",
              "      <th>success</th>\n",
              "      <td>926</td>\n",
              "    </tr>\n",
              "  </tbody>\n",
              "</table>\n",
              "</div>"
            ],
            "text/plain": [
              "col_0        Jumlah\n",
              "poutcome           \n",
              "failure        3869\n",
              "nonexistent   30611\n",
              "success         926"
            ]
          },
          "execution_count": 45,
          "metadata": {},
          "output_type": "execute_result"
        }
      ],
      "source": [
        "# Hasil Tabular\n",
        "pd.crosstab(index=df['poutcome'], columns='Jumlah')"
      ]
    },
    {
      "cell_type": "code",
      "execution_count": 46,
      "metadata": {
        "id": "WbdnrtRjKGAc"
      },
      "outputs": [
        {
          "data": {
            "text/html": [
              "<div>\n",
              "<style scoped>\n",
              "    .dataframe tbody tr th:only-of-type {\n",
              "        vertical-align: middle;\n",
              "    }\n",
              "\n",
              "    .dataframe tbody tr th {\n",
              "        vertical-align: top;\n",
              "    }\n",
              "\n",
              "    .dataframe thead th {\n",
              "        text-align: right;\n",
              "    }\n",
              "</style>\n",
              "<table border=\"1\" class=\"dataframe\">\n",
              "  <thead>\n",
              "    <tr style=\"text-align: right;\">\n",
              "      <th></th>\n",
              "      <th>y</th>\n",
              "      <th>no</th>\n",
              "      <th>yes</th>\n",
              "    </tr>\n",
              "    <tr>\n",
              "      <th>poutcome</th>\n",
              "      <th>previous</th>\n",
              "      <th></th>\n",
              "      <th></th>\n",
              "    </tr>\n",
              "  </thead>\n",
              "  <tbody>\n",
              "    <tr>\n",
              "      <th rowspan=\"4\" valign=\"top\">failure</th>\n",
              "      <th>1</th>\n",
              "      <td>3116</td>\n",
              "      <td>390</td>\n",
              "    </tr>\n",
              "    <tr>\n",
              "      <th>2</th>\n",
              "      <td>246</td>\n",
              "      <td>66</td>\n",
              "    </tr>\n",
              "    <tr>\n",
              "      <th>3</th>\n",
              "      <td>26</td>\n",
              "      <td>17</td>\n",
              "    </tr>\n",
              "    <tr>\n",
              "      <th>4</th>\n",
              "      <td>6</td>\n",
              "      <td>2</td>\n",
              "    </tr>\n",
              "    <tr>\n",
              "      <th>nonexistent</th>\n",
              "      <th>0</th>\n",
              "      <td>27892</td>\n",
              "      <td>2719</td>\n",
              "    </tr>\n",
              "    <tr>\n",
              "      <th rowspan=\"5\" valign=\"top\">success</th>\n",
              "      <th>1</th>\n",
              "      <td>303</td>\n",
              "      <td>372</td>\n",
              "    </tr>\n",
              "    <tr>\n",
              "      <th>2</th>\n",
              "      <td>57</td>\n",
              "      <td>133</td>\n",
              "    </tr>\n",
              "    <tr>\n",
              "      <th>3</th>\n",
              "      <td>11</td>\n",
              "      <td>32</td>\n",
              "    </tr>\n",
              "    <tr>\n",
              "      <th>4</th>\n",
              "      <td>0</td>\n",
              "      <td>12</td>\n",
              "    </tr>\n",
              "    <tr>\n",
              "      <th>5</th>\n",
              "      <td>1</td>\n",
              "      <td>5</td>\n",
              "    </tr>\n",
              "  </tbody>\n",
              "</table>\n",
              "</div>"
            ],
            "text/plain": [
              "y                        no   yes\n",
              "poutcome    previous             \n",
              "failure     1          3116   390\n",
              "            2           246    66\n",
              "            3            26    17\n",
              "            4             6     2\n",
              "nonexistent 0         27892  2719\n",
              "success     1           303   372\n",
              "            2            57   133\n",
              "            3            11    32\n",
              "            4             0    12\n",
              "            5             1     5"
            ]
          },
          "execution_count": 46,
          "metadata": {},
          "output_type": "execute_result"
        }
      ],
      "source": [
        "# Hasil Tabular\n",
        "(pd.crosstab(index=[df['poutcome'],df['previous']], columns=df['y']))\n"
      ]
    },
    {
      "cell_type": "code",
      "execution_count": 47,
      "metadata": {},
      "outputs": [
        {
          "data": {
            "text/html": [
              "<div>\n",
              "<style scoped>\n",
              "    .dataframe tbody tr th:only-of-type {\n",
              "        vertical-align: middle;\n",
              "    }\n",
              "\n",
              "    .dataframe tbody tr th {\n",
              "        vertical-align: top;\n",
              "    }\n",
              "\n",
              "    .dataframe thead th {\n",
              "        text-align: right;\n",
              "    }\n",
              "</style>\n",
              "<table border=\"1\" class=\"dataframe\">\n",
              "  <thead>\n",
              "    <tr style=\"text-align: right;\">\n",
              "      <th></th>\n",
              "      <th>y</th>\n",
              "      <th>no</th>\n",
              "      <th>yes</th>\n",
              "    </tr>\n",
              "    <tr>\n",
              "      <th>poutcome</th>\n",
              "      <th>previous</th>\n",
              "      <th></th>\n",
              "      <th></th>\n",
              "    </tr>\n",
              "  </thead>\n",
              "  <tbody>\n",
              "    <tr>\n",
              "      <th rowspan=\"4\" valign=\"top\">failure</th>\n",
              "      <th>1</th>\n",
              "      <td>0.89</td>\n",
              "      <td>0.11</td>\n",
              "    </tr>\n",
              "    <tr>\n",
              "      <th>2</th>\n",
              "      <td>0.79</td>\n",
              "      <td>0.21</td>\n",
              "    </tr>\n",
              "    <tr>\n",
              "      <th>3</th>\n",
              "      <td>0.60</td>\n",
              "      <td>0.40</td>\n",
              "    </tr>\n",
              "    <tr>\n",
              "      <th>4</th>\n",
              "      <td>0.75</td>\n",
              "      <td>0.25</td>\n",
              "    </tr>\n",
              "    <tr>\n",
              "      <th>nonexistent</th>\n",
              "      <th>0</th>\n",
              "      <td>0.91</td>\n",
              "      <td>0.09</td>\n",
              "    </tr>\n",
              "    <tr>\n",
              "      <th rowspan=\"5\" valign=\"top\">success</th>\n",
              "      <th>1</th>\n",
              "      <td>0.45</td>\n",
              "      <td>0.55</td>\n",
              "    </tr>\n",
              "    <tr>\n",
              "      <th>2</th>\n",
              "      <td>0.30</td>\n",
              "      <td>0.70</td>\n",
              "    </tr>\n",
              "    <tr>\n",
              "      <th>3</th>\n",
              "      <td>0.26</td>\n",
              "      <td>0.74</td>\n",
              "    </tr>\n",
              "    <tr>\n",
              "      <th>4</th>\n",
              "      <td>0.00</td>\n",
              "      <td>1.00</td>\n",
              "    </tr>\n",
              "    <tr>\n",
              "      <th>5</th>\n",
              "      <td>0.17</td>\n",
              "      <td>0.83</td>\n",
              "    </tr>\n",
              "  </tbody>\n",
              "</table>\n",
              "</div>"
            ],
            "text/plain": [
              "y                       no   yes\n",
              "poutcome    previous            \n",
              "failure     1         0.89  0.11\n",
              "            2         0.79  0.21\n",
              "            3         0.60  0.40\n",
              "            4         0.75  0.25\n",
              "nonexistent 0         0.91  0.09\n",
              "success     1         0.45  0.55\n",
              "            2         0.30  0.70\n",
              "            3         0.26  0.74\n",
              "            4         0.00  1.00\n",
              "            5         0.17  0.83"
            ]
          },
          "execution_count": 47,
          "metadata": {},
          "output_type": "execute_result"
        }
      ],
      "source": [
        "crosstb7 = (pd.crosstab(index=[df['poutcome'],df['previous']], columns=df['y'],normalize='index')).round(2)\n",
        "crosstb7"
      ]
    },
    {
      "cell_type": "code",
      "execution_count": 48,
      "metadata": {},
      "outputs": [
        {
          "data": {
            "text/plain": [
              "<Figure size 3000x1500 with 0 Axes>"
            ]
          },
          "metadata": {},
          "output_type": "display_data"
        },
        {
          "data": {
            "image/png": "[encoded data removed]",
            "text/plain": [
              "<Figure size 432x288 with 1 Axes>"
            ]
          },
          "metadata": {
            "needs_background": "light"
          },
          "output_type": "display_data"
        }
      ],
      "source": [
        "plt.figure(figsize=(20,10),dpi=150)\n",
        "barplot7 = crosstb7.plot.bar(rot=1)\n",
        "plt.title(\"Hubungan Campaign Sebelumnya dengan Keputusan Membuka Deposito\",size=12,pad=20)\n",
        "plt.xlabel(\"Status Campaign Sebelumnya\",size=12)\n",
        "plt.ylabel('Total Deposito (dalam %)',size=12)\n",
        "plt.xticks(size=10,rotation=90)\n",
        "plt.yticks(size=10)\n",
        "plt.savefig('Visualisasi Business Question 7.jpeg')\n",
        "plt.show()"
      ]
    },
    {
      "cell_type": "markdown",
      "metadata": {
        "id": "J8CDzutV2Vfm"
      },
      "source": [
        "## BUSINESS QUESTION 8\n",
        "Apakah nasabah yang memiliki rumah dan tidak memiliki hutang akan mempengaruhi keputusan untuk membuka deposito ?"
      ]
    },
    {
      "cell_type": "code",
      "execution_count": 54,
      "metadata": {},
      "outputs": [
        {
          "data": {
            "text/html": [
              "<div>\n",
              "<style scoped>\n",
              "    .dataframe tbody tr th:only-of-type {\n",
              "        vertical-align: middle;\n",
              "    }\n",
              "\n",
              "    .dataframe tbody tr th {\n",
              "        vertical-align: top;\n",
              "    }\n",
              "\n",
              "    .dataframe thead th {\n",
              "        text-align: right;\n",
              "    }\n",
              "</style>\n",
              "<table border=\"1\" class=\"dataframe\">\n",
              "  <thead>\n",
              "    <tr style=\"text-align: right;\">\n",
              "      <th></th>\n",
              "      <th>y</th>\n",
              "      <th>no</th>\n",
              "      <th>yes</th>\n",
              "      <th>All</th>\n",
              "    </tr>\n",
              "    <tr>\n",
              "      <th>housing</th>\n",
              "      <th>loan</th>\n",
              "      <th></th>\n",
              "      <th></th>\n",
              "      <th></th>\n",
              "    </tr>\n",
              "  </thead>\n",
              "  <tbody>\n",
              "    <tr>\n",
              "      <th rowspan=\"2\" valign=\"top\">no</th>\n",
              "      <th>no</th>\n",
              "      <td>12094</td>\n",
              "      <td>1387</td>\n",
              "      <td>13481</td>\n",
              "    </tr>\n",
              "    <tr>\n",
              "      <th>yes</th>\n",
              "      <td>1952</td>\n",
              "      <td>220</td>\n",
              "      <td>2172</td>\n",
              "    </tr>\n",
              "    <tr>\n",
              "      <th rowspan=\"2\" valign=\"top\">yes</th>\n",
              "      <th>no</th>\n",
              "      <td>14694</td>\n",
              "      <td>1806</td>\n",
              "      <td>16500</td>\n",
              "    </tr>\n",
              "    <tr>\n",
              "      <th>yes</th>\n",
              "      <td>2918</td>\n",
              "      <td>335</td>\n",
              "      <td>3253</td>\n",
              "    </tr>\n",
              "    <tr>\n",
              "      <th>All</th>\n",
              "      <th></th>\n",
              "      <td>31658</td>\n",
              "      <td>3748</td>\n",
              "      <td>35406</td>\n",
              "    </tr>\n",
              "  </tbody>\n",
              "</table>\n",
              "</div>"
            ],
            "text/plain": [
              "y                no   yes    All\n",
              "housing loan                    \n",
              "no      no    12094  1387  13481\n",
              "        yes    1952   220   2172\n",
              "yes     no    14694  1806  16500\n",
              "        yes    2918   335   3253\n",
              "All           31658  3748  35406"
            ]
          },
          "execution_count": 54,
          "metadata": {},
          "output_type": "execute_result"
        }
      ],
      "source": [
        "pd.crosstab(index=[df['housing'], df['loan']], columns=df['y'], margins=True)"
      ]
    },
    {
      "cell_type": "code",
      "execution_count": 55,
      "metadata": {
        "id": "XgdYn3oj2k0g"
      },
      "outputs": [
        {
          "data": {
            "text/html": [
              "<div>\n",
              "<style scoped>\n",
              "    .dataframe tbody tr th:only-of-type {\n",
              "        vertical-align: middle;\n",
              "    }\n",
              "\n",
              "    .dataframe tbody tr th {\n",
              "        vertical-align: top;\n",
              "    }\n",
              "\n",
              "    .dataframe thead th {\n",
              "        text-align: right;\n",
              "    }\n",
              "</style>\n",
              "<table border=\"1\" class=\"dataframe\">\n",
              "  <thead>\n",
              "    <tr style=\"text-align: right;\">\n",
              "      <th></th>\n",
              "      <th>y</th>\n",
              "      <th>no</th>\n",
              "      <th>yes</th>\n",
              "    </tr>\n",
              "    <tr>\n",
              "      <th>housing</th>\n",
              "      <th>loan</th>\n",
              "      <th></th>\n",
              "      <th></th>\n",
              "    </tr>\n",
              "  </thead>\n",
              "  <tbody>\n",
              "    <tr>\n",
              "      <th rowspan=\"2\" valign=\"top\">no</th>\n",
              "      <th>no</th>\n",
              "      <td>0.90</td>\n",
              "      <td>0.10</td>\n",
              "    </tr>\n",
              "    <tr>\n",
              "      <th>yes</th>\n",
              "      <td>0.90</td>\n",
              "      <td>0.10</td>\n",
              "    </tr>\n",
              "    <tr>\n",
              "      <th rowspan=\"2\" valign=\"top\">yes</th>\n",
              "      <th>no</th>\n",
              "      <td>0.89</td>\n",
              "      <td>0.11</td>\n",
              "    </tr>\n",
              "    <tr>\n",
              "      <th>yes</th>\n",
              "      <td>0.90</td>\n",
              "      <td>0.10</td>\n",
              "    </tr>\n",
              "  </tbody>\n",
              "</table>\n",
              "</div>"
            ],
            "text/plain": [
              "y               no   yes\n",
              "housing loan            \n",
              "no      no    0.90  0.10\n",
              "        yes   0.90  0.10\n",
              "yes     no    0.89  0.11\n",
              "        yes   0.90  0.10"
            ]
          },
          "execution_count": 55,
          "metadata": {},
          "output_type": "execute_result"
        }
      ],
      "source": [
        "# Hasil Tabular\n",
        "crosstb9 = (pd.crosstab(index=[df['housing'], df['loan']], columns=df['y'], normalize='index')).round(2)\n",
        "crosstb9"
      ]
    },
    {
      "cell_type": "code",
      "execution_count": 56,
      "metadata": {},
      "outputs": [
        {
          "data": {
            "text/plain": [
              "<Figure size 3000x1500 with 0 Axes>"
            ]
          },
          "metadata": {},
          "output_type": "display_data"
        },
        {
          "data": {
            "image/png": "[encoded data removed]",
            "text/plain": [
              "<Figure size 432x288 with 1 Axes>"
            ]
          },
          "metadata": {
            "needs_background": "light"
          },
          "output_type": "display_data"
        }
      ],
      "source": [
        "plt.figure(figsize=(20,10),dpi=150)\n",
        "barplot9 = crosstb9.plot.bar(rot=1)\n",
        "plt.title(\"Hubungan Pekerjaan dengan Keputusan Membuka Deposito\",size=12,pad=20)\n",
        "plt.xlabel(\"Status Campaign Sebelumnya\",size=12)\n",
        "plt.ylabel('Total Deposito (dalam %)',size=12)\n",
        "plt.xticks(size=10,rotation=90)\n",
        "plt.yticks(size=10)\n",
        "plt.show()"
      ]
    }
  ],
  "metadata": {
    "colab": {
      "collapsed_sections": [],
      "name": "code.ipynb",
      "provenance": []
    },
    "kernelspec": {
      "display_name": "Python 3.10.4 64-bit",
      "language": "python",
      "name": "python3"
    },
    "language_info": {
      "codemirror_mode": {
        "name": "ipython",
        "version": 3
      },
      "file_extension": ".py",
      "mimetype": "text/x-python",
      "name": "python",
      "nbconvert_exporter": "python",
      "pygments_lexer": "ipython3",
      "version": "3.10.4"
    },
    "vscode": {
      "interpreter": {
        "hash": "0d72b21489300652f2337cd7f80c57cc00ce6bbc92cf98d285c178d0a8ced433"
      }
    }
  },
  "nbformat": 4,
  "nbformat_minor": 0
}
